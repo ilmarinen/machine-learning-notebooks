{
 "cells": [
  {
   "cell_type": "code",
   "execution_count": 1,
   "metadata": {},
   "outputs": [
    {
     "name": "stdout",
     "output_type": "stream",
     "text": [
      "GPU is available\n"
     ]
    }
   ],
   "source": [
    "import torch.nn as nn\n",
    "import torch.nn.functional as F\n",
    "import torch.optim as optim\n",
    "import numpy as np\n",
    "import random\n",
    "import torch\n",
    "import os\n",
    "import random\n",
    "\n",
    "%matplotlib inline\n",
    "from matplotlib import pyplot as plt\n",
    "\n",
    "is_cuda = torch.cuda.is_available()\n",
    "\n",
    "# If we have a GPU available, we'll set our device to GPU. We'll use this device variable later in our code.\n",
    "if is_cuda:\n",
    "    device = torch.device(\"cuda\")\n",
    "    print(\"GPU is available\")\n",
    "else:\n",
    "    device = torch.device(\"cpu\")\n",
    "    print(\"GPU not available, CPU used\")"
   ]
  },
  {
   "cell_type": "code",
   "execution_count": 2,
   "metadata": {},
   "outputs": [],
   "source": [
    "def train_model(model, optimizer, X_train, X_train_lengths, Y_train, X_test, X_test_lengths, Y_test, epochs=500):\n",
    "    X_train_padded = torch.nn.utils.rnn.pad_sequence(X_train, batch_first=True)\n",
    "    max_length_train = X_train_padded.size(1)\n",
    "    X_train_padded = X_train_padded.view(-1, max_length_train, 1)\n",
    "    X_test_padded = torch.nn.utils.rnn.pad_sequence(X_test, batch_first=True)\n",
    "    max_length_test = X_test_padded.size(1)\n",
    "    X_test_padded = X_test_padded.view(-1, max_length_test, 1)\n",
    "    train_accuracy = []\n",
    "    test_accuracy = []\n",
    "    train_batch_size = len(X_train_lengths)\n",
    "    for i in range(epochs):\n",
    "        params = list(model.named_parameters())\n",
    "        model.zero_grad()\n",
    "        hidden = model.init_hidden(train_batch_size).float()\n",
    "        output = model(X_train_padded, hidden, X_train_lengths)\n",
    "        # print(output, Y_train)\n",
    "        loss = F.mse_loss(output, Y_train)\n",
    "        loss.backward()\n",
    "        optimizer.step()\n",
    "        # for param_name, param in params:\n",
    "        #    print(param_name, np.linalg.norm(param.grad.to(\"cpu\").numpy()))\n",
    "        optimizer.zero_grad()\n",
    "        tr_accuracy = test_model(model, X_train, X_train_lengths, Y_train)\n",
    "        train_accuracy.append(tr_accuracy)\n",
    "        tst_accuracy = test_model(model, X_test, X_test_lengths, Y_test)\n",
    "        test_accuracy.append(tst_accuracy)\n",
    "    \n",
    "    return model.eval(), train_accuracy, test_accuracy"
   ]
  },
  {
   "cell_type": "code",
   "execution_count": 3,
   "metadata": {},
   "outputs": [],
   "source": [
    "def test_model(model, X_samp, X_samp_lengths, Y_samp):\n",
    "    batch_size = len(X_samp_lengths)\n",
    "    hidden = model.init_hidden(batch_size).float()\n",
    "    X_samp_padded = torch.nn.utils.rnn.pad_sequence(X_samp, batch_first=True)\n",
    "    max_length_samp = X_samp_padded.size(1)\n",
    "    X_samp_padded = X_samp_padded.view(-1, max_length_samp, 1)\n",
    "    output_test = model(X_samp_padded, hidden, X_samp_lengths)\n",
    "    return F.mse_loss(output_test, Y_samp)"
   ]
  },
  {
   "cell_type": "code",
   "execution_count": 4,
   "metadata": {},
   "outputs": [],
   "source": [
    "def evaluate_model(model, X_samp, X_samp_lengths, Y_samp):\n",
    "    batch_size = len(X_samp_lengths)\n",
    "    hidden = model.init_hidden(batch_size).float()\n",
    "    X_samp_padded = torch.nn.utils.rnn.pad_sequence(X_samp, batch_first=True)\n",
    "    max_length_samp = X_samp_padded.size(1)\n",
    "    X_samp_padded = X_samp_padded.view(-1, max_length_samp, 1)\n",
    "    output_test = model(X_samp_padded, hidden, X_samp_lengths)\n",
    "    return output_test"
   ]
  },
  {
   "cell_type": "code",
   "execution_count": 5,
   "metadata": {},
   "outputs": [],
   "source": [
    "class ModelOne(nn.Module):\n",
    "    \n",
    "    def __init__(self):\n",
    "        super(ModelOne, self).__init__()\n",
    "        self.rnn = nn.GRU(1, 128, 2, dropout=0.25, batch_first=True)\n",
    "        self.dense = nn.Linear(128, 1)\n",
    "    \n",
    "    def init_hidden(self, batch_size):\n",
    "        hidden = torch.zeros(2, batch_size, 128).to(device)\n",
    "\n",
    "        return hidden\n",
    "    \n",
    "    def forward(self, x, hidden, x_lengths):\n",
    "        batch_size = x.size(0)\n",
    "        max_sequence_size = x.size(1)\n",
    "        # hidden = self.init_hidden(batch_size).float()\n",
    "        x = torch.nn.utils.rnn.pack_padded_sequence(x, x_lengths, batch_first=True)\n",
    "        out, hidden = self.rnn(x, hidden)\n",
    "        out, _ = torch.nn.utils.rnn.pad_packed_sequence(out, batch_first=True)\n",
    "        out = out.contiguous()\n",
    "        out = out.view(-1, 128)\n",
    "        out = self.dense(out)\n",
    "        out = out.view(batch_size, max_sequence_size, 1)\n",
    "        \n",
    "        indexes = torch.tensor(x_lengths) - 1\n",
    "        out = out[torch.arange(batch_size), indexes, :]\n",
    "        \n",
    "        return out"
   ]
  },
  {
   "cell_type": "code",
   "execution_count": 6,
   "metadata": {},
   "outputs": [],
   "source": [
    "model_one = ModelOne().to(device)"
   ]
  },
  {
   "cell_type": "code",
   "execution_count": 7,
   "metadata": {},
   "outputs": [],
   "source": [
    "t = np.arange(0, 10, 0.1)"
   ]
  },
  {
   "cell_type": "code",
   "execution_count": 8,
   "metadata": {},
   "outputs": [],
   "source": [
    "y = np.sin(t)"
   ]
  },
  {
   "cell_type": "code",
   "execution_count": 9,
   "metadata": {},
   "outputs": [],
   "source": [
    "X = []\n",
    "Y = []\n",
    "freq = list(range(1, 19))\n",
    "\n",
    "for i in freq:\n",
    "    for n in range(10):\n",
    "        limit = random.randint(5, 10)\n",
    "        t = np.arange(0, limit, 0.1)\n",
    "        x = np.sin(i * t)\n",
    "        X.append(x[:-1])\n",
    "        Y.append(x[-1])"
   ]
  },
  {
   "cell_type": "code",
   "execution_count": 10,
   "metadata": {},
   "outputs": [],
   "source": [
    "XY = list(zip(X, Y))\n",
    "random.shuffle(XY)\n",
    "XY_train = XY[:int(0.8 * len(XY))]\n",
    "XY_test = XY[int(0.8 * len(XY)):]\n",
    "X_train = []\n",
    "Y_train = []\n",
    "X_test = []\n",
    "Y_test = []\n",
    "for x, y in XY_train:\n",
    "    X_train.append(x)\n",
    "    Y_train.append(y)\n",
    "\n",
    "for x, y in XY_test:\n",
    "    X_test.append(x)\n",
    "    Y_test.append(y)\n",
    "\n",
    "XY = None\n",
    "XY_train = None\n",
    "XY_test = None\n",
    "X = None\n",
    "Y = None"
   ]
  },
  {
   "cell_type": "code",
   "execution_count": 11,
   "metadata": {},
   "outputs": [],
   "source": [
    "train_set = list(zip(X_train, Y_train))\n",
    "train_set = sorted(train_set, key=lambda t: len(t[0]), reverse=True)\n",
    "test_set = list(zip(X_test, Y_test))\n",
    "test_set = sorted(test_set, key=lambda t: len(t[0]), reverse=True)"
   ]
  },
  {
   "cell_type": "code",
   "execution_count": 12,
   "metadata": {},
   "outputs": [],
   "source": [
    "X_train = []\n",
    "X_train_lengths = []\n",
    "Y_train = []\n",
    "X_test = []\n",
    "X_test_lengths = []\n",
    "Y_test = []\n",
    "for x, y in train_set:\n",
    "    X_train.append(torch.tensor(x).float().to(device))\n",
    "    X_train_lengths.append(len(x))\n",
    "    Y_train.append(torch.tensor(y))\n",
    "\n",
    "Y_train = torch.tensor(Y_train).to(device)\n",
    "\n",
    "for x, y in test_set:\n",
    "    X_test.append(torch.tensor(x).float().to(device))\n",
    "    X_test_lengths.append(len(x))\n",
    "    Y_test.append(torch.tensor(y))\n",
    "\n",
    "Y_test = torch.tensor(Y_test).to(device)\n",
    "train_set = None\n",
    "test_set = None"
   ]
  },
  {
   "cell_type": "code",
   "execution_count": 13,
   "metadata": {},
   "outputs": [],
   "source": [
    "X_train_padded = torch.nn.utils.rnn.pad_sequence(X_train, batch_first=True)"
   ]
  },
  {
   "cell_type": "code",
   "execution_count": 14,
   "metadata": {},
   "outputs": [
    {
     "data": {
      "text/plain": [
       "torch.Size([144, 99])"
      ]
     },
     "execution_count": 14,
     "metadata": {},
     "output_type": "execute_result"
    }
   ],
   "source": [
    "X_train_padded.size()"
   ]
  },
  {
   "cell_type": "code",
   "execution_count": 15,
   "metadata": {},
   "outputs": [],
   "source": [
    "train_batch_size = X_train_padded.size(0)\n",
    "hidden = model_one.init_hidden(train_batch_size).float()"
   ]
  },
  {
   "cell_type": "code",
   "execution_count": 16,
   "metadata": {},
   "outputs": [
    {
     "name": "stderr",
     "output_type": "stream",
     "text": [
      "/home/ubuntu/venv/lib/python3.6/site-packages/ipykernel_launcher.py:17: UserWarning: Using a target size (torch.Size([144])) that is different to the input size (torch.Size([144, 1])). This will likely lead to incorrect results due to broadcasting. Please ensure they have the same size.\n",
      "/home/ubuntu/venv/lib/python3.6/site-packages/ipykernel_launcher.py:8: UserWarning: Using a target size (torch.Size([144])) that is different to the input size (torch.Size([144, 1])). This will likely lead to incorrect results due to broadcasting. Please ensure they have the same size.\n",
      "  \n",
      "/home/ubuntu/venv/lib/python3.6/site-packages/ipykernel_launcher.py:8: UserWarning: Using a target size (torch.Size([36])) that is different to the input size (torch.Size([36, 1])). This will likely lead to incorrect results due to broadcasting. Please ensure they have the same size.\n",
      "  \n"
     ]
    }
   ],
   "source": [
    "optimizer = optim.Adam(model_one.parameters(), lr=0.001)\n",
    "model_one, train_accuracy, test_accuracy = train_model(model_one, optimizer, X_train, X_train_lengths, Y_train, X_test, X_test_lengths, Y_test, epochs=100)"
   ]
  },
  {
   "cell_type": "code",
   "execution_count": 17,
   "metadata": {},
   "outputs": [
    {
     "data": {
      "image/png": "[encoded data removed]",
      "text/plain": [
       "<Figure size 432x288 with 1 Axes>"
      ]
     },
     "metadata": {
      "needs_background": "light"
     },
     "output_type": "display_data"
    }
   ],
   "source": [
    "fig, ax = plt.subplots()\n",
    "ax.plot(train_accuracy, \"b-\", label=\"Train Loss\")\n",
    "ax.plot(test_accuracy, \"r-\", label=\"Test Loss\")\n",
    "leg = ax.legend()"
   ]
  },
  {
   "cell_type": "code",
   "execution_count": 18,
   "metadata": {},
   "outputs": [],
   "source": [
    "output_test = evaluate_model(model_one, X_test, X_test_lengths, Y_test)"
   ]
  },
  {
   "cell_type": "code",
   "execution_count": 19,
   "metadata": {},
   "outputs": [
    {
     "data": {
      "text/plain": [
       "torch.Size([36, 1])"
      ]
     },
     "execution_count": 19,
     "metadata": {},
     "output_type": "execute_result"
    }
   ],
   "source": [
    "output_test.size()"
   ]
  },
  {
   "cell_type": "code",
   "execution_count": 42,
   "metadata": {},
   "outputs": [
    {
     "data": {
      "text/plain": [
       "[<matplotlib.lines.Line2D at 0x7f95de1a76a0>]"
      ]
     },
     "execution_count": 42,
     "metadata": {},
     "output_type": "execute_result"
    },
    {
     "data": {
      "image/png": "[encoded data removed]",
      "text/plain": [
       "<Figure size 432x288 with 1 Axes>"
      ]
     },
     "metadata": {
      "needs_background": "light"
     },
     "output_type": "display_data"
    }
   ],
   "source": [
    "n = 5\n",
    "plt.plot(X_test[n].to(\"cpu\").numpy())\n",
    "plt.plot(len(X_test[n]) + 1 ,output_test[n][0].to(\"cpu\").detach().numpy(), \"go\")\n",
    "plt.plot(len(X_test[n]) + 1, Y_test[n].to(\"cpu\").numpy(), \"ro\")"
   ]
  },
  {
   "cell_type": "code",
   "execution_count": 23,
   "metadata": {},
   "outputs": [
    {
     "data": {
      "text/plain": [
       "array(-0.02387559, dtype=float32)"
      ]
     },
     "execution_count": 23,
     "metadata": {},
     "output_type": "execute_result"
    }
   ],
   "source": [
    "output_test[0][0].to(\"cpu\").detach().numpy()"
   ]
  },
  {
   "cell_type": "code",
   "execution_count": 25,
   "metadata": {},
   "outputs": [
    {
     "data": {
      "text/plain": [
       "tensor(0.1839, device='cuda:0')"
      ]
     },
     "execution_count": 25,
     "metadata": {},
     "output_type": "execute_result"
    }
   ],
   "source": [
    "Y_test[0]"
   ]
  },
  {
   "cell_type": "code",
   "execution_count": 27,
   "metadata": {},
   "outputs": [
    {
     "data": {
      "text/plain": [
       "tensor(-0.4926, device='cuda:0')"
      ]
     },
     "execution_count": 27,
     "metadata": {},
     "output_type": "execute_result"
    }
   ],
   "source": [
    "X_test[0][-1]"
   ]
  },
  {
   "cell_type": "code",
   "execution_count": null,
   "metadata": {},
   "outputs": [],
   "source": []
  }
 ],
 "metadata": {
  "kernelspec": {
   "display_name": "Python 3",
   "language": "python",
   "name": "python3"
  },
  "language_info": {
   "codemirror_mode": {
    "name": "ipython",
    "version": 3
   },
   "file_extension": ".py",
   "mimetype": "text/x-python",
   "name": "python",
   "nbconvert_exporter": "python",
   "pygments_lexer": "ipython3",
   "version": "3.7.3"
  }
 },
 "nbformat": 4,
 "nbformat_minor": 4
}
