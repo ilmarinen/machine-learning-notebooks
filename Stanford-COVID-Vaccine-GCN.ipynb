{
 "cells": [
  {
   "cell_type": "code",
   "execution_count": 1,
   "metadata": {},
   "outputs": [],
   "source": [
    "# !pip install torch-geometric\n",
    "# !pip install networkx\n",
    "# !pip install torch-scatter==latest+cu101 -f https://pytorch-geometric.com/whl/torch-1.6.0.html\n",
    "# !pip install torch-sparse==latest+cu101 -f https://pytorch-geometric.com/whl/torch-1.6.0.html\n",
    "# !pip install torch-cluster==latest+cu101 -f https://pytorch-geometric.com/whl/torch-1.6.0.html\n",
    "# !pip install torch-spline-conv==latest+cu101 -f https://pytorch-geometric.com/whl/torch-1.6.0.html"
   ]
  },
  {
   "cell_type": "code",
   "execution_count": 2,
   "metadata": {},
   "outputs": [],
   "source": [
    "import pandas as pd\n",
    "import json\n",
    "import random\n",
    "import torch\n",
    "import torch.nn as nn\n",
    "import torch.nn.functional as F\n",
    "import torch.optim as optim\n",
    "import numpy as np\n",
    "import networkx as nx\n",
    "import matplotlib.pyplot as plt\n",
    "\n",
    "from torch_geometric.data import Data, DataLoader\n",
    "import torch_geometric.nn as gnn"
   ]
  },
  {
   "cell_type": "code",
   "execution_count": 3,
   "metadata": {},
   "outputs": [],
   "source": [
    "# Download data from https://www.kaggle.com/c/stanford-covid-vaccine/data\n",
    "\n",
    "train_file = open(\"datasets/stanford-covid-vaccine/train.json\", \"r\")\n",
    "train_data_raw = train_file.read()\n",
    "train_data = list(map(lambda l: json.loads(l), list(filter(lambda l: len(l) > 0, train_data_raw.split(\"\\n\")))))\n",
    "train_file.close()\n",
    "\n",
    "test_file = open(\"datasets/stanford-covid-vaccine/test.json\", \"r\")\n",
    "test_data_raw = test_file.read()\n",
    "test_data = list(map(lambda l: json.loads(l), list(filter(lambda l: len(l) > 0, test_data_raw.split(\"\\n\")))))\n",
    "test_file.close()"
   ]
  },
  {
   "cell_type": "code",
   "execution_count": 4,
   "metadata": {},
   "outputs": [
    {
     "data": {
      "text/plain": [
       "dict_keys(['index', 'id', 'sequence', 'structure', 'predicted_loop_type', 'signal_to_noise', 'SN_filter', 'seq_length', 'seq_scored', 'reactivity_error', 'deg_error_Mg_pH10', 'deg_error_pH10', 'deg_error_Mg_50C', 'deg_error_50C', 'reactivity', 'deg_Mg_pH10', 'deg_pH10', 'deg_Mg_50C', 'deg_50C'])"
      ]
     },
     "execution_count": 4,
     "metadata": {},
     "output_type": "execute_result"
    }
   ],
   "source": [
    "train_data[0].keys()"
   ]
  },
  {
   "cell_type": "code",
   "execution_count": 5,
   "metadata": {},
   "outputs": [],
   "source": [
    "signal_to_noise = list(map(lambda r: r[\"signal_to_noise\"], train_data))"
   ]
  },
  {
   "cell_type": "code",
   "execution_count": 6,
   "metadata": {},
   "outputs": [
    {
     "data": {
      "text/plain": [
       "'GGAAAAGCUCUAAUAACAGGAGACUAGGACUACGUAUUUCUAGGUAACUGGAAUAACCCAUACCAGCAGUUAGAGUUCGCUCUAACAAAAGAAACAACAACAACAAC'"
      ]
     },
     "execution_count": 6,
     "metadata": {},
     "output_type": "execute_result"
    }
   ],
   "source": [
    "train_data[0][\"sequence\"]"
   ]
  },
  {
   "cell_type": "code",
   "execution_count": 7,
   "metadata": {},
   "outputs": [
    {
     "data": {
      "text/plain": [
       "'.....((((((.......)))).)).((.....((..((((((....))))))..)).....))....(((((((....))))))).....................'"
      ]
     },
     "execution_count": 7,
     "metadata": {},
     "output_type": "execute_result"
    }
   ],
   "source": [
    "train_data[0][\"structure\"]"
   ]
  },
  {
   "cell_type": "code",
   "execution_count": 8,
   "metadata": {
    "scrolled": true
   },
   "outputs": [
    {
     "data": {
      "text/plain": [
       "'EEEEESSSSSSHHHHHHHSSSSBSSXSSIIIIISSIISSSSSSHHHHSSSSSSIISSIIIIISSXXXXSSSSSSSHHHHSSSSSSSEEEEEEEEEEEEEEEEEEEEE'"
      ]
     },
     "execution_count": 8,
     "metadata": {},
     "output_type": "execute_result"
    }
   ],
   "source": [
    "train_data[0][\"predicted_loop_type\"]"
   ]
  },
  {
   "cell_type": "code",
   "execution_count": 9,
   "metadata": {},
   "outputs": [
    {
     "data": {
      "text/plain": [
       "('id_001f94081', 107, 107, 107)"
      ]
     },
     "execution_count": 9,
     "metadata": {},
     "output_type": "execute_result"
    }
   ],
   "source": [
    "train_data[0][\"id\"], len(train_data[0][\"sequence\"]), len(train_data[0][\"structure\"]), len(train_data[0][\"predicted_loop_type\"])"
   ]
  },
  {
   "cell_type": "code",
   "execution_count": 10,
   "metadata": {},
   "outputs": [],
   "source": [
    "input_sequence = list(zip(train_data[0][\"sequence\"], train_data[0][\"structure\"], train_data[0][\"predicted_loop_type\"]))"
   ]
  },
  {
   "cell_type": "code",
   "execution_count": 11,
   "metadata": {},
   "outputs": [
    {
     "data": {
      "text/plain": [
       "107"
      ]
     },
     "execution_count": 11,
     "metadata": {},
     "output_type": "execute_result"
    }
   ],
   "source": [
    "len(input_sequence)"
   ]
  },
  {
   "cell_type": "code",
   "execution_count": 12,
   "metadata": {},
   "outputs": [
    {
     "data": {
      "text/plain": [
       "(('G', '.', 'E'), ('C', '.', 'E'))"
      ]
     },
     "execution_count": 12,
     "metadata": {},
     "output_type": "execute_result"
    }
   ],
   "source": [
    "input_sequence[0], input_sequence[-1]"
   ]
  },
  {
   "cell_type": "code",
   "execution_count": 13,
   "metadata": {},
   "outputs": [],
   "source": [
    "output_sequence = list(zip(\n",
    "    train_data[0][\"reactivity\"],\n",
    "    train_data[0][\"deg_Mg_pH10\"],\n",
    "    train_data[0][\"deg_pH10\"],\n",
    "    train_data[0][\"deg_Mg_50C\"],\n",
    "    train_data[0][\"deg_50C\"]))"
   ]
  },
  {
   "cell_type": "code",
   "execution_count": 14,
   "metadata": {},
   "outputs": [
    {
     "data": {
      "text/plain": [
       "((0.3297, 0.7556, 2.3375, 0.3581, 0.6382),\n",
       " (0.5731, 0.6898, 1.172, 0.4254, 0.8472))"
      ]
     },
     "execution_count": 14,
     "metadata": {},
     "output_type": "execute_result"
    }
   ],
   "source": [
    "output_sequence[0], output_sequence[-1]"
   ]
  },
  {
   "cell_type": "code",
   "execution_count": 15,
   "metadata": {},
   "outputs": [],
   "source": [
    "evaluation_length = train_data[0][\"seq_scored\"]"
   ]
  },
  {
   "cell_type": "code",
   "execution_count": 16,
   "metadata": {},
   "outputs": [],
   "source": [
    "def build_categorical_encoder(input_attribute_index_or_key, categories, total_dimensions, start_index, end_index):\n",
    "    if not (end_index - start_index + 1 == len(categories)):\n",
    "        raise Exception(\"Mismatch between number of categories and dimensions assigned.\")\n",
    "    def encoder(data_row, data_vector):\n",
    "        if len(data_vector) != total_dimensions:\n",
    "            raise Exception(f\"Data vector is of size {len(data_vector)}, but should be of size {total_dimensions}.\")\n",
    "        \n",
    "        category_index = categories.index(data_row[input_attribute_index_or_key])\n",
    "        encoding_index = start_index + category_index\n",
    "        data_vector[encoding_index] = 1\n",
    "    \n",
    "    return encoder\n",
    "\n",
    "def build_continuous_encoder(input_attribute_index_or_key, total_dimensions, attribute_index):\n",
    "    def encoder(data_row, data_vector):\n",
    "        if len(data_vector) != total_dimensions:\n",
    "            raise Exception(f\"Data vector is of size {len(data_vector)}, but should be of size {total_dimensions}.\")\n",
    "        data_vector[attribute_index] = float(data_row[input_attribute_index_or_key])\n",
    "    \n",
    "    return encoder\n",
    "\n",
    "def encode_data(rows, encoders, total_dimensions):\n",
    "    encoded_rows = []\n",
    "    for row in rows:\n",
    "        encoded_row = [0] * total_dimensions\n",
    "        for encoder in encoders:\n",
    "            encoder(row, encoded_row)\n",
    "        encoded_rows.append(encoded_row)\n",
    "    \n",
    "    return encoded_rows"
   ]
  },
  {
   "cell_type": "code",
   "execution_count": 17,
   "metadata": {},
   "outputs": [],
   "source": [
    "total_dim_input = 11\n",
    "total_dim_output = 5\n",
    "sequence_classes = [\"A\", \"G\", \"U\", \"C\"]\n",
    "structure_classes = [\"(\", \".\", \")\"]\n",
    "predicted_loop_type_classes = [\"S\", \"M\", \"I\", \"B\", \"H\", \"E\", \"X\"]\n",
    "\n",
    "sequence_encoder = build_categorical_encoder(0, sequence_classes, total_dim_input, 0, 3)\n",
    "predicted_loop_encoder = build_categorical_encoder(2, predicted_loop_type_classes, total_dim_input, 4, 10)\n",
    "\n",
    "\n",
    "data_encoders = [\n",
    "    sequence_encoder,\n",
    "    predicted_loop_encoder\n",
    "]"
   ]
  },
  {
   "cell_type": "code",
   "execution_count": 18,
   "metadata": {},
   "outputs": [],
   "source": [
    "encoded_input_sequence = encode_data(input_sequence, data_encoders, total_dim_input)"
   ]
  },
  {
   "cell_type": "code",
   "execution_count": 19,
   "metadata": {},
   "outputs": [
    {
     "data": {
      "text/plain": [
       "('A', '(', 'S')"
      ]
     },
     "execution_count": 19,
     "metadata": {},
     "output_type": "execute_result"
    }
   ],
   "source": [
    "input_sequence[5]"
   ]
  },
  {
   "cell_type": "code",
   "execution_count": 20,
   "metadata": {},
   "outputs": [
    {
     "data": {
      "text/plain": [
       "[1, 0, 0, 0, 1, 0, 0, 0, 0, 0, 0]"
      ]
     },
     "execution_count": 20,
     "metadata": {},
     "output_type": "execute_result"
    }
   ],
   "source": [
    "encoded_input_sequence[5]"
   ]
  },
  {
   "cell_type": "code",
   "execution_count": 21,
   "metadata": {},
   "outputs": [
    {
     "data": {
      "text/plain": [
       "107"
      ]
     },
     "execution_count": 21,
     "metadata": {},
     "output_type": "execute_result"
    }
   ],
   "source": [
    "len(encoded_input_sequence)"
   ]
  },
  {
   "cell_type": "code",
   "execution_count": 22,
   "metadata": {},
   "outputs": [
    {
     "data": {
      "text/plain": [
       "torch.Size([107, 11])"
      ]
     },
     "execution_count": 22,
     "metadata": {},
     "output_type": "execute_result"
    }
   ],
   "source": [
    "torch.tensor(encoded_input_sequence, dtype=torch.float32).size()"
   ]
  },
  {
   "cell_type": "code",
   "execution_count": 23,
   "metadata": {},
   "outputs": [],
   "source": [
    "def build_rna_graph_structure(input_sequence, target=None, target_errors=None, edge_probabilities=None):\n",
    "    encoded_input_sequence = torch.tensor(\n",
    "        encode_data(input_sequence, data_encoders, total_dim_input),\n",
    "        dtype=torch.float32)\n",
    "    edges = []\n",
    "    node_features = []\n",
    "    edge_features = []\n",
    "    G = nx.Graph()\n",
    "    stack = []\n",
    "    prev_id = None\n",
    "    for (node_id, (base, structure_class, predicted_loop_type)) in enumerate(input_sequence):\n",
    "        G.add_node(node_id, base=base, predicted_loop_type=predicted_loop_type)\n",
    "        if structure_class == \"(\":\n",
    "            stack.append(node_id)\n",
    "        elif structure_class == \")\":\n",
    "            neighbour_id = stack.pop()\n",
    "            edges.append((node_id, neighbour_id))\n",
    "            edges.append((neighbour_id, node_id))\n",
    "            if edge_probabilities is not None:\n",
    "                edge_probability = edge_probabilities[node_id, neighbour_id]\n",
    "                edge_features.append([0, 1, 0, edge_probability])\n",
    "                edge_features.append([0, 1, 0, edge_probability])\n",
    "                G.add_edge(node_id, neighbour_id, feature=[0, 1, 0, edge_probability])\n",
    "            else:\n",
    "                edge_features.append([0, 1, 0, 1])\n",
    "                edge_features.append([0, 1, 0, 1])\n",
    "                G.add_edge(node_id, neighbour_id, feature=[0, 1])\n",
    "\n",
    "        if prev_id is not None:\n",
    "            edges.append((node_id, prev_id))\n",
    "            edges.append((prev_id, node_id))\n",
    "            edge_features.append([1, 0, 0, 1])\n",
    "            edge_features.append([1, 0, 0, 1])\n",
    "            G.add_edge(node_id, prev_id, feature=[1, 0])\n",
    "\n",
    "        prev_id = node_id\n",
    "    \n",
    "    if edge_probabilities is not None:\n",
    "        edge_set = set(edges)\n",
    "        nnodes = len(G.nodes)\n",
    "        for i in range(nnodes):\n",
    "            for j in range(nnodes):\n",
    "                edge_probability = edge_probabilities[i, j]\n",
    "                if (i, j) not in edge_set and edge_probability > 0.0:\n",
    "                    edges.append((i, j))\n",
    "                    edges.append((j, i))\n",
    "                    edge_set.add((i, j))\n",
    "                    edge_set.add((j, i))\n",
    "                    edge_features.append([0, 0, 1, edge_probability])\n",
    "                    edge_features.append([0, 0, 1, edge_probability])\n",
    "                    G.add_edge(node_id, prev_id, feature=[0, 0, 1, edge_probability])\n",
    "            \n",
    "    \n",
    "    edge_index = torch.transpose(torch.tensor(edges, dtype=torch.long), 0, 1)\n",
    "    edge_attr = torch.tensor(edge_features, dtype=torch.float32)\n",
    "    \n",
    "    if target is not None and target_errors is not None:\n",
    "        weights = []\n",
    "        for error_row in target_errors:\n",
    "            weights_row = []\n",
    "            for error in error_row:\n",
    "                weights_row.append(1/(error + 1))\n",
    "            weights.append(weights_row)\n",
    "        target = torch.tensor(target, dtype=torch.float32)\n",
    "        weights = torch.tensor(weights, dtype=torch.float32)\n",
    "        graph_data = Data(x=encoded_input_sequence, edge_index=edge_index, y=target, weights=weights, edge_attr=edge_attr)\n",
    "    elif target is not None:\n",
    "        target = torch.tensor(target, dtype=torch.float32)\n",
    "        graph_data = Data(x=encoded_input_sequence, edge_index=edge_index, edge_attr=edge_attr, y=target)\n",
    "    else:\n",
    "        graph_data = Data(x=encoded_input_sequence, edge_index=edge_index, edge_attr=edge_attr)\n",
    "    \n",
    "    # import pdb; pdb.set_trace()\n",
    "    \n",
    "    return G, graph_data"
   ]
  },
  {
   "cell_type": "code",
   "execution_count": 24,
   "metadata": {},
   "outputs": [],
   "source": [
    "x = torch.tensor(encoded_input_sequence, dtype=torch.float32)"
   ]
  },
  {
   "cell_type": "code",
   "execution_count": 25,
   "metadata": {},
   "outputs": [
    {
     "data": {
      "text/plain": [
       "torch.Size([107, 11])"
      ]
     },
     "execution_count": 25,
     "metadata": {},
     "output_type": "execute_result"
    }
   ],
   "source": [
    "x.size()"
   ]
  },
  {
   "cell_type": "code",
   "execution_count": 26,
   "metadata": {},
   "outputs": [],
   "source": [
    "G, graph_data = build_rna_graph_structure(input_sequence)"
   ]
  },
  {
   "cell_type": "code",
   "execution_count": 27,
   "metadata": {},
   "outputs": [
    {
     "data": {
      "text/plain": [
       "torch.Size([107, 11])"
      ]
     },
     "execution_count": 27,
     "metadata": {},
     "output_type": "execute_result"
    }
   ],
   "source": [
    "graph_data.x.size()"
   ]
  },
  {
   "cell_type": "code",
   "execution_count": 28,
   "metadata": {},
   "outputs": [
    {
     "data": {
      "text/plain": [
       "11"
      ]
     },
     "execution_count": 28,
     "metadata": {},
     "output_type": "execute_result"
    }
   ],
   "source": [
    "graph_data.num_features"
   ]
  },
  {
   "cell_type": "code",
   "execution_count": 29,
   "metadata": {},
   "outputs": [
    {
     "data": {
      "text/plain": [
       "torch.Size([2, 258])"
      ]
     },
     "execution_count": 29,
     "metadata": {},
     "output_type": "execute_result"
    }
   ],
   "source": [
    "graph_data.edge_index.size()"
   ]
  },
  {
   "cell_type": "code",
   "execution_count": 30,
   "metadata": {},
   "outputs": [
    {
     "data": {
      "text/plain": [
       "107"
      ]
     },
     "execution_count": 30,
     "metadata": {},
     "output_type": "execute_result"
    }
   ],
   "source": [
    "len(input_sequence)"
   ]
  },
  {
   "cell_type": "code",
   "execution_count": 31,
   "metadata": {},
   "outputs": [
    {
     "data": {
      "text/plain": [
       "tensor(True)"
      ]
     },
     "execution_count": 31,
     "metadata": {},
     "output_type": "execute_result"
    }
   ],
   "source": [
    "graph_data.is_undirected()"
   ]
  },
  {
   "cell_type": "code",
   "execution_count": 32,
   "metadata": {},
   "outputs": [
    {
     "data": {
      "image/png": "[encoded data removed]",
      "text/plain": [
       "<Figure size 432x288 with 1 Axes>"
      ]
     },
     "metadata": {},
     "output_type": "display_data"
    }
   ],
   "source": [
    "nx.draw(G, node_size=20)"
   ]
  },
  {
   "cell_type": "code",
   "execution_count": 33,
   "metadata": {},
   "outputs": [
    {
     "data": {
      "text/plain": [
       "{'base': 'G', 'predicted_loop_type': 'E'}"
      ]
     },
     "execution_count": 33,
     "metadata": {},
     "output_type": "execute_result"
    }
   ],
   "source": [
    "G.nodes[0]"
   ]
  },
  {
   "cell_type": "code",
   "execution_count": 34,
   "metadata": {},
   "outputs": [
    {
     "data": {
      "text/plain": [
       "EdgeDataView([(0, 1, {'feature': [1, 0]}), (1, 2, {'feature': [1, 0]}), (2, 3, {'feature': [1, 0]}), (3, 4, {'feature': [1, 0]}), (4, 5, {'feature': [1, 0]}), (5, 6, {'feature': [1, 0]}), (5, 24, {'feature': [0, 1]}), (6, 7, {'feature': [1, 0]}), (6, 23, {'feature': [0, 1]}), (7, 8, {'feature': [1, 0]}), (7, 21, {'feature': [0, 1]}), (8, 9, {'feature': [1, 0]}), (8, 20, {'feature': [0, 1]}), (9, 10, {'feature': [1, 0]}), (9, 19, {'feature': [0, 1]}), (10, 11, {'feature': [1, 0]}), (10, 18, {'feature': [0, 1]}), (11, 12, {'feature': [1, 0]}), (12, 13, {'feature': [1, 0]}), (13, 14, {'feature': [1, 0]}), (14, 15, {'feature': [1, 0]}), (15, 16, {'feature': [1, 0]}), (16, 17, {'feature': [1, 0]}), (17, 18, {'feature': [1, 0]}), (18, 19, {'feature': [1, 0]}), (19, 20, {'feature': [1, 0]}), (20, 21, {'feature': [1, 0]}), (21, 22, {'feature': [1, 0]}), (22, 23, {'feature': [1, 0]}), (23, 24, {'feature': [1, 0]}), (24, 25, {'feature': [1, 0]}), (25, 26, {'feature': [1, 0]}), (26, 27, {'feature': [1, 0]}), (26, 63, {'feature': [0, 1]}), (27, 28, {'feature': [1, 0]}), (27, 62, {'feature': [0, 1]}), (28, 29, {'feature': [1, 0]}), (29, 30, {'feature': [1, 0]}), (30, 31, {'feature': [1, 0]}), (31, 32, {'feature': [1, 0]}), (32, 33, {'feature': [1, 0]}), (33, 34, {'feature': [1, 0]}), (33, 56, {'feature': [0, 1]}), (34, 35, {'feature': [1, 0]}), (34, 55, {'feature': [0, 1]}), (35, 36, {'feature': [1, 0]}), (36, 37, {'feature': [1, 0]}), (37, 38, {'feature': [1, 0]}), (37, 52, {'feature': [0, 1]}), (38, 39, {'feature': [1, 0]}), (38, 51, {'feature': [0, 1]}), (39, 40, {'feature': [1, 0]}), (39, 50, {'feature': [0, 1]}), (40, 41, {'feature': [1, 0]}), (40, 49, {'feature': [0, 1]}), (41, 42, {'feature': [1, 0]}), (41, 48, {'feature': [0, 1]}), (42, 43, {'feature': [1, 0]}), (42, 47, {'feature': [0, 1]}), (43, 44, {'feature': [1, 0]}), (44, 45, {'feature': [1, 0]}), (45, 46, {'feature': [1, 0]}), (46, 47, {'feature': [1, 0]}), (47, 48, {'feature': [1, 0]}), (48, 49, {'feature': [1, 0]}), (49, 50, {'feature': [1, 0]}), (50, 51, {'feature': [1, 0]}), (51, 52, {'feature': [1, 0]}), (52, 53, {'feature': [1, 0]}), (53, 54, {'feature': [1, 0]}), (54, 55, {'feature': [1, 0]}), (55, 56, {'feature': [1, 0]}), (56, 57, {'feature': [1, 0]}), (57, 58, {'feature': [1, 0]}), (58, 59, {'feature': [1, 0]}), (59, 60, {'feature': [1, 0]}), (60, 61, {'feature': [1, 0]}), (61, 62, {'feature': [1, 0]}), (62, 63, {'feature': [1, 0]}), (63, 64, {'feature': [1, 0]}), (64, 65, {'feature': [1, 0]}), (65, 66, {'feature': [1, 0]}), (66, 67, {'feature': [1, 0]}), (67, 68, {'feature': [1, 0]}), (68, 69, {'feature': [1, 0]}), (68, 85, {'feature': [0, 1]}), (69, 70, {'feature': [1, 0]}), (69, 84, {'feature': [0, 1]}), (70, 71, {'feature': [1, 0]}), (70, 83, {'feature': [0, 1]}), (71, 72, {'feature': [1, 0]}), (71, 82, {'feature': [0, 1]}), (72, 73, {'feature': [1, 0]}), (72, 81, {'feature': [0, 1]}), (73, 74, {'feature': [1, 0]}), (73, 80, {'feature': [0, 1]}), (74, 75, {'feature': [1, 0]}), (74, 79, {'feature': [0, 1]}), (75, 76, {'feature': [1, 0]}), (76, 77, {'feature': [1, 0]}), (77, 78, {'feature': [1, 0]}), (78, 79, {'feature': [1, 0]}), (79, 80, {'feature': [1, 0]}), (80, 81, {'feature': [1, 0]}), (81, 82, {'feature': [1, 0]}), (82, 83, {'feature': [1, 0]}), (83, 84, {'feature': [1, 0]}), (84, 85, {'feature': [1, 0]}), (85, 86, {'feature': [1, 0]}), (86, 87, {'feature': [1, 0]}), (87, 88, {'feature': [1, 0]}), (88, 89, {'feature': [1, 0]}), (89, 90, {'feature': [1, 0]}), (90, 91, {'feature': [1, 0]}), (91, 92, {'feature': [1, 0]}), (92, 93, {'feature': [1, 0]}), (93, 94, {'feature': [1, 0]}), (94, 95, {'feature': [1, 0]}), (95, 96, {'feature': [1, 0]}), (96, 97, {'feature': [1, 0]}), (97, 98, {'feature': [1, 0]}), (98, 99, {'feature': [1, 0]}), (99, 100, {'feature': [1, 0]}), (100, 101, {'feature': [1, 0]}), (101, 102, {'feature': [1, 0]}), (102, 103, {'feature': [1, 0]}), (103, 104, {'feature': [1, 0]}), (104, 105, {'feature': [1, 0]}), (105, 106, {'feature': [1, 0]})])"
      ]
     },
     "execution_count": 34,
     "metadata": {},
     "output_type": "execute_result"
    }
   ],
   "source": [
    "G.edges.data()"
   ]
  },
  {
   "cell_type": "code",
   "execution_count": 35,
   "metadata": {},
   "outputs": [
    {
     "data": {
      "text/plain": [
       "(107, torch.Size([107, 11]))"
      ]
     },
     "execution_count": 35,
     "metadata": {},
     "output_type": "execute_result"
    }
   ],
   "source": [
    "len(G.nodes), graph_data.x.size()"
   ]
  },
  {
   "cell_type": "code",
   "execution_count": 36,
   "metadata": {},
   "outputs": [],
   "source": [
    "filtered_train_data = list(filter(lambda d: d[\"signal_to_noise\"] >= 0.7, train_data))\n",
    "\n",
    "graphs_train = []\n",
    "dataset = []\n",
    "for row in filtered_train_data:\n",
    "    sequence_id = row[\"id\"]\n",
    "    edge_probabilities = np.load(f\"datasets/stanford-covid-vaccine/bpps/{sequence_id}.npy\")\n",
    "    input_sequence = list(zip(row[\"sequence\"], row[\"structure\"], row[\"predicted_loop_type\"]))\n",
    "    target_sequence = list(zip(row[\"reactivity\"], row[\"deg_Mg_pH10\"], row[\"deg_pH10\"], row[\"deg_Mg_50C\"], row[\"deg_50C\"]))\n",
    "    target_sequence_errors = list(zip(row[\"reactivity_error\"], row[\"deg_error_Mg_pH10\"], row[\"deg_error_pH10\"], row[\"deg_error_Mg_50C\"], row[\"deg_error_50C\"]))\n",
    "    # target_sequence = list(zip(row[\"reactivity\"], row[\"deg_Mg_pH10\"], row[\"deg_Mg_50C\"]))\n",
    "    # target_sequence_errors = list(zip(row[\"reactivity_error\"], row[\"deg_error_Mg_pH10\"], row[\"deg_error_Mg_50C\"]))\n",
    "    G, graph_data = build_rna_graph_structure(input_sequence, target=target_sequence, target_errors=target_sequence_errors, edge_probabilities=edge_probabilities)\n",
    "    dataset.append(graph_data)\n",
    "    graphs_train.append(G)\n",
    "\n",
    "\n",
    "\n",
    "graphs_test = []\n",
    "testing_set = []\n",
    "testing_sequence_id_to_dataset_map = dict()\n",
    "for row in test_data:\n",
    "    sequence_id = row[\"id\"]\n",
    "    edge_probabilities = np.load(f\"datasets/stanford-covid-vaccine/bpps/{sequence_id}.npy\")\n",
    "    input_sequence = list(zip(row[\"sequence\"], row[\"structure\"], row[\"predicted_loop_type\"]))\n",
    "    G, graph_data = build_rna_graph_structure(input_sequence, edge_probabilities=edge_probabilities)\n",
    "    testing_set.append(graph_data)\n",
    "    graphs_test.append(G)\n",
    "    testing_sequence_id_to_dataset_map[row[\"id\"]] = graph_data\n"
   ]
  },
  {
   "cell_type": "code",
   "execution_count": 37,
   "metadata": {},
   "outputs": [
    {
     "data": {
      "text/plain": [
       "Data(edge_attr=[1244, 4], edge_index=[2, 1244], weights=[68, 5], x=[107, 11], y=[68, 5])"
      ]
     },
     "execution_count": 37,
     "metadata": {},
     "output_type": "execute_result"
    }
   ],
   "source": [
    "dataset[0]"
   ]
  },
  {
   "cell_type": "code",
   "execution_count": 38,
   "metadata": {},
   "outputs": [],
   "source": [
    "random.shuffle(dataset)\n",
    "\n",
    "training = dataset[:int(len(dataset) * 0.8)]\n",
    "evaluation = dataset[int(len(dataset) * 0.8):]"
   ]
  },
  {
   "cell_type": "code",
   "execution_count": 39,
   "metadata": {},
   "outputs": [
    {
     "data": {
      "text/plain": [
       "(1734, 434, 3634)"
      ]
     },
     "execution_count": 39,
     "metadata": {},
     "output_type": "execute_result"
    }
   ],
   "source": [
    "len(training), len(evaluation), len(testing_set)"
   ]
  },
  {
   "cell_type": "code",
   "execution_count": 41,
   "metadata": {},
   "outputs": [],
   "source": [
    "batch_size_train = 31\n",
    "batch_size_test = 318\n",
    "number_of_epochs = 100\n",
    "batch_size_submission = 158\n",
    "# batch_size_train = 16\n",
    "# batch_size_test = 480\n",
    "# number_of_epochs = 100\n",
    "# batch_size_train = 34\n",
    "# batch_size_test = 434\n",
    "# number_of_epochs = 100"
   ]
  },
  {
   "cell_type": "code",
   "execution_count": 42,
   "metadata": {},
   "outputs": [
    {
     "data": {
      "text/plain": [
       "Data(edge_attr=[1948, 4], edge_index=[2, 1948], weights=[68, 5], x=[107, 11], y=[68, 5])"
      ]
     },
     "execution_count": 42,
     "metadata": {},
     "output_type": "execute_result"
    }
   ],
   "source": [
    "training[0]"
   ]
  },
  {
   "cell_type": "code",
   "execution_count": 43,
   "metadata": {},
   "outputs": [],
   "source": [
    "train_loader = DataLoader(training, batch_size=batch_size_train)\n",
    "test_loader = DataLoader(evaluation, batch_size=batch_size_test)\n",
    "submission_loader = DataLoader(testing_set, batch_size=batch_size_submission)\n",
    "test_batches = list(test_loader)"
   ]
  },
  {
   "cell_type": "code",
   "execution_count": 44,
   "metadata": {},
   "outputs": [],
   "source": [
    "test_batch = test_batches[0]"
   ]
  },
  {
   "cell_type": "code",
   "execution_count": 45,
   "metadata": {},
   "outputs": [],
   "source": [
    "class RNAGCNN(nn.Module):\n",
    "    \n",
    "    def __init__(self, node_features_dim=None, node_embedding_dim=None, node_output_features_dim=None):\n",
    "        super(RNAGCNN, self).__init__()\n",
    "        \n",
    "        # self.conv1 = GCNConv(node_features_dim, node_embedding_dim)\n",
    "        # conv_layers = [GCNConv(node_features_dim, hidden_dim)]\n",
    "        conv_layers = []\n",
    "        for i in range(node_features_dim - 1, node_embedding_dim - 1, -1):\n",
    "            conv_layers.append(gnn.GCNConv(i + 1, i))\n",
    "        self.conv_layers = nn.Sequential(*conv_layers)\n",
    "        self.linear1 = nn.Linear(node_embedding_dim, node_embedding_dim + 5)\n",
    "        self.linear2 = nn.Linear(node_embedding_dim + 5, node_output_features_dim)\n",
    "    \n",
    "    def forward(self, data):\n",
    "        x, edge_index = data.x, data.edge_index\n",
    "        for conv_layer in self.conv_layers:\n",
    "            x = conv_layer(x, edge_index)\n",
    "            x = F.relu(x)\n",
    "        x = self.linear1(x)\n",
    "        x = F.relu(x)\n",
    "        x = self.linear2(x)\n",
    "        x = F.relu(x)\n",
    "        \n",
    "        return x\n",
    "\n",
    "\n",
    "class RNAGenConv(nn.Module):\n",
    "    \n",
    "    def __init__(self, node_features_dim=None, node_embedding_dim=None, node_output_features_dim=None):\n",
    "        super(RNAGenConv, self).__init__()\n",
    "        \n",
    "        self.conv_layer = gnn.GENConv(in_channels=node_features_dim, out_channels=node_embedding_dim)\n",
    "        self.dropout = nn.Dropout(p=0.1)\n",
    "        self.linear1 = nn.Linear(node_embedding_dim, node_embedding_dim + 5)\n",
    "        self.linear2 = nn.Linear(node_embedding_dim + 5, node_output_features_dim)\n",
    "    \n",
    "    def forward(self, data):\n",
    "        x, edge_index = data.x, data.edge_index\n",
    "        x = self.conv_layer(x, edge_index)\n",
    "        x = self.dropout(x)\n",
    "        x = F.relu(x)\n",
    "        x = self.linear1(x)\n",
    "        x = F.relu(x)\n",
    "        x = self.linear2(x)\n",
    "        x = F.relu(x)\n",
    "        \n",
    "        return x\n",
    "\n",
    "\n",
    "class DeepRNAGenConv(nn.Module):\n",
    "    \n",
    "    def __init__(self, node_features_dim=None, node_embedding_dim=None, num_layers=None, node_output_features_dim=None, convolution_dropout=0.1, dense_dropout=0.0):\n",
    "        super(DeepRNAGenConv, self).__init__()\n",
    "        \n",
    "        self.node_encoder = nn.Linear(node_features_dim, node_embedding_dim)\n",
    "        \n",
    "        self.gcn_layers = nn.ModuleList()\n",
    "        for i in range(num_layers):\n",
    "            convolution = gnn.GENConv(in_channels=node_embedding_dim, out_channels=node_embedding_dim)\n",
    "            norm = nn.LayerNorm(node_embedding_dim)\n",
    "            activation = nn.ReLU()\n",
    "            layer = gnn.DeepGCNLayer(conv=convolution, norm=norm, act=activation, dropout=convolution_dropout)\n",
    "            self.gcn_layers.append(layer)\n",
    "\n",
    "        self.dropout = nn.Dropout(p=dense_dropout)\n",
    "        self.decoder = nn.Linear(node_embedding_dim, node_output_features_dim)\n",
    "    \n",
    "    def forward(self, data):\n",
    "        x, edge_index = data.x, data.edge_index\n",
    "        x = self.node_encoder(x)\n",
    "        for layer in self.gcn_layers:\n",
    "            x = layer(x, edge_index)\n",
    "        \n",
    "        x = self.dropout(x)\n",
    "        x = self.decoder(x)\n",
    "        \n",
    "        return x\n",
    "\n",
    "\n",
    "class DeepRNAGenConvWithEdges(nn.Module):\n",
    "    \n",
    "    def __init__(self, node_features_dim=None, edge_attribute_size=None, node_embedding_dim=None, num_layers=None, node_output_features_dim=None, convolution_dropout=0.1, dense_dropout=0.0):\n",
    "        super(DeepRNAGenConvWithEdges, self).__init__()\n",
    "        \n",
    "        self.node_encoder = nn.Linear(node_features_dim, node_embedding_dim)\n",
    "        self.edge_encoder = nn.Linear(edge_attribute_size, node_embedding_dim)\n",
    "        \n",
    "        self.gcn_layers = nn.ModuleList()\n",
    "        for i in range(num_layers):\n",
    "            convolution = gnn.GENConv(in_channels=node_embedding_dim, out_channels=node_embedding_dim)\n",
    "            norm = nn.LayerNorm(node_embedding_dim)\n",
    "            activation = nn.ReLU()\n",
    "            layer = gnn.DeepGCNLayer(conv=convolution, norm=norm, act=activation, dropout=convolution_dropout)\n",
    "            self.gcn_layers.append(layer)\n",
    "\n",
    "        self.dropout = nn.Dropout(p=dense_dropout)\n",
    "        self.decoder = nn.Linear(node_embedding_dim, node_output_features_dim)\n",
    "    \n",
    "    def forward(self, data):\n",
    "        x, edge_index, edge_attr = data.x, data.edge_index, data.edge_attr\n",
    "        x = self.node_encoder(x)\n",
    "        edge_attr = self.edge_encoder(edge_attr)\n",
    "        for layer in self.gcn_layers:\n",
    "            x = layer(x, edge_index, edge_attr)\n",
    "        \n",
    "        x = self.dropout(x)\n",
    "        x = self.decoder(x)\n",
    "        \n",
    "        return x\n",
    "\n",
    "\n",
    "class DeepRNANNConvWithEdges(nn.Module):\n",
    "    \n",
    "    def __init__(self, node_features_dim=None, edge_attribute_size=None, node_embedding_dim=None, num_layers=None, node_output_features_dim=None, convolution_dropout=0.1, dense_dropout=0.0):\n",
    "        super(DeepRNANNConvWithEdges, self).__init__()\n",
    "        \n",
    "        self.node_encoder = nn.Linear(node_features_dim, node_embedding_dim)\n",
    "        self.edge_encoder = nn.Linear(edge_attribute_size, node_embedding_dim * node_embedding_dim)\n",
    "        \n",
    "        self.gcn_layers = nn.ModuleList()\n",
    "        for i in range(num_layers):\n",
    "            convolution = gnn.NNConv(in_channels=node_embedding_dim, out_channels=node_embedding_dim, nn=self.edge_encoder)\n",
    "            norm = nn.LayerNorm(node_embedding_dim)\n",
    "            activation = nn.ReLU()\n",
    "            layer = gnn.DeepGCNLayer(conv=convolution, norm=norm, act=activation, dropout=convolution_dropout)\n",
    "            self.gcn_layers.append(layer)\n",
    "\n",
    "        self.dropout = nn.Dropout(p=dense_dropout)\n",
    "        self.decoder = nn.Linear(node_embedding_dim, node_output_features_dim)\n",
    "    \n",
    "    def forward(self, data):\n",
    "        x, edge_index, edge_attr = data.x, data.edge_index, data.edge_attr\n",
    "        x = self.node_encoder(x)\n",
    "        # edge_attr = self.edge_encoder(edge_attr)\n",
    "        for layer in self.gcn_layers:\n",
    "            x = layer(x, edge_index, edge_attr)\n",
    "        \n",
    "        x = self.dropout(x)\n",
    "        x = self.decoder(x)\n",
    "        \n",
    "        return x\n",
    "\n",
    "\n",
    "class DeeperGCN(torch.nn.Module):\n",
    "    def __init__(self, node_features_dim=None, hidden_channels=None, num_layers=None, node_output_features_dim=None):\n",
    "        super(DeeperGCN, self).__init__()\n",
    "\n",
    "        self.node_encoder = nn.Linear(node_features_dim, hidden_channels)\n",
    "\n",
    "        self.layers = nn.ModuleList()\n",
    "        for i in range(1, num_layers + 1):\n",
    "            conv = gnn.GENConv(hidden_channels, hidden_channels, aggr='softmax',\n",
    "                           t=1.0, learn_t=True, num_layers=2, norm='layer')\n",
    "            norm = nn.LayerNorm(hidden_channels, elementwise_affine=True)\n",
    "            act = nn.ReLU(inplace=True)\n",
    "\n",
    "            layer = gnn.DeepGCNLayer(conv, norm, act, block='res+', dropout=0.5,\n",
    "                                     ckpt_grad=i % 3)\n",
    "            self.layers.append(layer)\n",
    "\n",
    "        self.lin = nn.Linear(hidden_channels, node_output_features_dim)\n",
    "\n",
    "    def forward(self, data):\n",
    "        x, edge_index = data.x, data.edge_index\n",
    "        x = self.node_encoder(x)\n",
    "\n",
    "        x = self.layers[0].conv(x, edge_index)\n",
    "\n",
    "        for layer in self.layers[1:]:\n",
    "            x = layer(x, edge_index)\n",
    "\n",
    "        x = self.layers[0].act(self.layers[0].norm(x))\n",
    "        x = F.dropout(x, p=0.2, training=self.training)\n",
    "\n",
    "        return self.lin(x)"
   ]
  },
  {
   "cell_type": "code",
   "execution_count": 46,
   "metadata": {},
   "outputs": [],
   "source": [
    "def weighted_mse_loss(output, target, weights=None):\n",
    "    if weights is not None:\n",
    "        weighted_sum_errors = weights * ((output - target)**2)\n",
    "        mean_weighted_sum_errors = weighted_sum_errors.mean()\n",
    "        return mean_weighted_sum_errors\n",
    "    else:\n",
    "        return F.mse_loss(output, target)\n",
    "\n",
    "def unweighted_mse_loss(output, target, **kwargs):\n",
    "    return F.mse_loss(output, target)"
   ]
  },
  {
   "cell_type": "code",
   "execution_count": 47,
   "metadata": {},
   "outputs": [],
   "source": [
    "def batch_loss(batch_input, batch_output, batch_size, loss_function=None, eval_length=None):\n",
    "    total_loss = torch.tensor(0.0).to(\"cuda\")\n",
    "    for i in range(batch_size):\n",
    "        graph_output = batch_output[batch_input.batch == i]\n",
    "        target = batch_input.y[(i * eval_length):((i + 1) * eval_length), :].to(\"cuda\")\n",
    "        weights = batch_input.weights[(i * eval_length):((i + 1) * eval_length), :].to(\"cuda\")\n",
    "        evaluation_nodes = target.size(0)\n",
    "        graph_output_evaluation = graph_output[:evaluation_nodes, :]\n",
    "        total_loss += loss_function(graph_output_evaluation, target, weights=weights)\n",
    "    \n",
    "    return total_loss"
   ]
  },
  {
   "cell_type": "code",
   "execution_count": 48,
   "metadata": {},
   "outputs": [],
   "source": [
    "rna_gcnn = DeeperGCN(node_features_dim=total_dim_input, hidden_channels=96, num_layers=10, node_output_features_dim=5).cuda()\n",
    "# rna_gcnn = RNAGenConv(node_features_dim=total_dim_input, node_embedding_dim=96, node_output_features_dim=5).cuda()\n",
    "# rna_gcnn = DeepRNAGenConv(node_features_dim=total_dim_input, node_embedding_dim=90, num_layers=10, node_output_features_dim=5, convolution_dropout=0.5, dense_dropout=0.1).cuda()\n",
    "# rna_gcnn = DeepRNAGenConvWithEdges(node_features_dim=total_dim_input, edge_attribute_size=4, node_embedding_dim=90, num_layers=10, node_output_features_dim=5, convolution_dropout=0.7, dense_dropout=0.1).cuda()\n",
    "# rna_gcnn = DeepRNANNConvWithEdges(node_features_dim=total_dim_input, edge_attribute_size=4, node_embedding_dim=50, num_layers=4, node_output_features_dim=5, convolution_dropout=0.2, dense_dropout=0.1).cuda()\n",
    "\n",
    "optimizer = optim.Adam(rna_gcnn.parameters(), lr=0.01)"
   ]
  },
  {
   "cell_type": "code",
   "execution_count": 49,
   "metadata": {},
   "outputs": [],
   "source": [
    "train_counter = list(range(len(train_loader) * number_of_epochs))\n",
    "train_losses = []\n",
    "test_losses = []\n",
    "test_counter = [i * len(train_loader) for i in range(number_of_epochs)]\n",
    "for n in range(number_of_epochs):\n",
    "    for batch_input in train_loader:\n",
    "        rna_gcnn.zero_grad()\n",
    "        batch_output = rna_gcnn(batch_input.to(\"cuda\"))\n",
    "        loss = batch_loss(batch_input, batch_output, batch_size_train, loss_function=unweighted_mse_loss, eval_length=evaluation_length) / batch_size_train\n",
    "        loss.backward()\n",
    "        optimizer.step()\n",
    "        optimizer.zero_grad()\n",
    "        rna_gcnn.zero_grad()\n",
    "        train_losses.append(torch.sqrt(loss).item())\n",
    "    with torch.no_grad():\n",
    "        batch_output_test = rna_gcnn(test_batch.to(\"cuda\"))\n",
    "        test_loss = batch_loss(test_batch, batch_output_test, batch_size_test, loss_function=unweighted_mse_loss, eval_length=evaluation_length) / batch_size_test\n",
    "        test_losses.append(torch.sqrt(test_loss).item())\n",
    "            "
   ]
  },
  {
   "cell_type": "code",
   "execution_count": 50,
   "metadata": {},
   "outputs": [
    {
     "data": {
      "image/png": "[encoded data removed]",
      "text/plain": [
       "<Figure size 432x288 with 1 Axes>"
      ]
     },
     "metadata": {
      "needs_background": "light"
     },
     "output_type": "display_data"
    }
   ],
   "source": [
    "fig, ax = plt.subplots()\n",
    "ax.plot(train_counter, train_losses, color=\"b\", label=\"Train Loss\")\n",
    "ax.scatter(test_counter, test_losses, color=\"red\", label=\"Test Loss\")\n",
    "leg = ax.legend()"
   ]
  },
  {
   "cell_type": "code",
   "execution_count": 51,
   "metadata": {},
   "outputs": [
    {
     "data": {
      "text/plain": [
       "(0.2977384626865387, 0.36742594838142395)"
      ]
     },
     "execution_count": 51,
     "metadata": {},
     "output_type": "execute_result"
    }
   ],
   "source": [
    "min(train_losses), min(test_losses)"
   ]
  },
  {
   "cell_type": "code",
   "execution_count": 52,
   "metadata": {},
   "outputs": [
    {
     "data": {
      "text/plain": [
       "DeeperGCN(\n",
       "  (node_encoder): Linear(in_features=11, out_features=96, bias=True)\n",
       "  (layers): ModuleList(\n",
       "    (0): DeepGCNLayer(block=res+)\n",
       "    (1): DeepGCNLayer(block=res+)\n",
       "    (2): DeepGCNLayer(block=res+)\n",
       "    (3): DeepGCNLayer(block=res+)\n",
       "    (4): DeepGCNLayer(block=res+)\n",
       "    (5): DeepGCNLayer(block=res+)\n",
       "    (6): DeepGCNLayer(block=res+)\n",
       "    (7): DeepGCNLayer(block=res+)\n",
       "    (8): DeepGCNLayer(block=res+)\n",
       "    (9): DeepGCNLayer(block=res+)\n",
       "  )\n",
       "  (lin): Linear(in_features=96, out_features=5, bias=True)\n",
       ")"
      ]
     },
     "execution_count": 52,
     "metadata": {},
     "output_type": "execute_result"
    }
   ],
   "source": [
    "rna_gcnn.eval()"
   ]
  },
  {
   "cell_type": "code",
   "execution_count": 53,
   "metadata": {},
   "outputs": [],
   "source": [
    "output_header = 'id_seqpos,reactivity,deg_Mg_pH10,deg_pH10,deg_Mg_50C,deg_50C'"
   ]
  },
  {
   "cell_type": "code",
   "execution_count": 54,
   "metadata": {},
   "outputs": [],
   "source": [
    "output_lines = [output_header]\n",
    "for sequence_id, graph_dataset in testing_sequence_id_to_dataset_map.items():\n",
    "    output = rna_gcnn(graph_dataset.to(\"cuda\"))\n",
    "    output = output.to(\"cpu\")\n",
    "    seq_length = output.size(0)\n",
    "    for i in range(seq_length):\n",
    "        seq_id_pos = f\"{sequence_id}_{i}\"\n",
    "        seq_id_pos_entry = list(map(lambda num: str(num), output[i,:].tolist()))\n",
    "        submission_line_entries = [seq_id_pos] + seq_id_pos_entry\n",
    "        submission_line = \",\".join(submission_line_entries)\n",
    "        output_lines.append(submission_line)"
   ]
  },
  {
   "cell_type": "code",
   "execution_count": 55,
   "metadata": {},
   "outputs": [],
   "source": [
    "submission_data = \"\\n\".join(output_lines)"
   ]
  },
  {
   "cell_type": "code",
   "execution_count": 56,
   "metadata": {},
   "outputs": [],
   "source": [
    "submission_file = open(\"submission-gcn.csv\", \"w\")\n",
    "submission_file.write(submission_data)\n",
    "submission_file.close()"
   ]
  },
  {
   "cell_type": "code",
   "execution_count": null,
   "metadata": {},
   "outputs": [],
   "source": []
  }
 ],
 "metadata": {
  "kernelspec": {
   "display_name": "Python 3",
   "language": "python",
   "name": "python3"
  },
  "language_info": {
   "codemirror_mode": {
    "name": "ipython",
    "version": 3
   },
   "file_extension": ".py",
   "mimetype": "text/x-python",
   "name": "python",
   "nbconvert_exporter": "python",
   "pygments_lexer": "ipython3",
   "version": "3.6.9"
  }
 },
 "nbformat": 4,
 "nbformat_minor": 4
}
