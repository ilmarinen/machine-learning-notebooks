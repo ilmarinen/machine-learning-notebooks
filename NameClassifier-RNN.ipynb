{
 "cells": [
  {
   "cell_type": "code",
   "execution_count": 1,
   "metadata": {},
   "outputs": [
    {
     "name": "stdout",
     "output_type": "stream",
     "text": [
      "GPU is available\n"
     ]
    }
   ],
   "source": [
    "import torch.nn as nn\n",
    "import torch.nn.functional as F\n",
    "import torch.optim as optim\n",
    "import numpy as np\n",
    "import random\n",
    "import torch\n",
    "import os\n",
    "import random\n",
    "\n",
    "%matplotlib inline\n",
    "from matplotlib import pyplot as plt\n",
    "\n",
    "is_cuda = torch.cuda.is_available()\n",
    "\n",
    "# If we have a GPU available, we'll set our device to GPU. We'll use this device variable later in our code.\n",
    "if is_cuda:\n",
    "    device = torch.device(\"cuda\")\n",
    "    print(\"GPU is available\")\n",
    "else:\n",
    "    device = torch.device(\"cpu\")\n",
    "    print(\"GPU not available, CPU used\")"
   ]
  },
  {
   "cell_type": "code",
   "execution_count": 2,
   "metadata": {},
   "outputs": [],
   "source": [
    "def train_model(model, optimizer, X_train, X_train_lengths, Y_train, X_test, X_test_lengths, Y_test, epochs=500):\n",
    "    X_train_padded = torch.nn.utils.rnn.pad_sequence(X_train, batch_first=True)\n",
    "    X_test_padded = torch.nn.utils.rnn.pad_sequence(X_test, batch_first=True)\n",
    "    train_accuracy = []\n",
    "    test_accuracy = []\n",
    "    for i in range(epochs):\n",
    "        model.zero_grad()\n",
    "        output = model(X_train_padded, X_train_lengths)\n",
    "        loss = F.cross_entropy(output, Y_train)\n",
    "        loss.backward()\n",
    "        optimizer.step()\n",
    "        optimizer.zero_grad()\n",
    "        tr_accuracy = test_model(model, X_train, X_train_lengths, Y_train)\n",
    "        train_accuracy.append(tr_accuracy)\n",
    "        output_test = model(X_test_padded, X_test_lengths)\n",
    "        loss_test = F.cross_entropy(output_test, Y_test)\n",
    "        tst_accuracy = test_model(model, X_test, X_test_lengths, Y_test)\n",
    "        test_accuracy.append(tst_accuracy)\n",
    "    \n",
    "    return model.eval(), train_accuracy, test_accuracy"
   ]
  },
  {
   "cell_type": "code",
   "execution_count": 3,
   "metadata": {},
   "outputs": [],
   "source": [
    "def test_model(model, X_samp, X_samp_lengths, Y_samp):\n",
    "    X_samp_padded = torch.nn.utils.rnn.pad_sequence(X_samp, batch_first=True)\n",
    "    output_test = model(X_samp_padded, X_samp_lengths)\n",
    "    total = 0\n",
    "    correct = 0\n",
    "    for i, out_t in enumerate(output_test):\n",
    "        if int(torch.argmax(out_t)) - int(Y_samp[i]) == 0:\n",
    "            correct = correct + 1\n",
    "        total = total + 1\n",
    "\n",
    "    return (correct/total)"
   ]
  },
  {
   "cell_type": "code",
   "execution_count": 4,
   "metadata": {},
   "outputs": [],
   "source": [
    "import unicodedata\n",
    "import string\n",
    "\n",
    "all_letters = string.ascii_letters + \" .,;'\"\n",
    "n_letters = len(all_letters)\n",
    "\n",
    "def unicode_to_ascii(s):\n",
    "    return ''.join(\n",
    "        c for c in unicodedata.normalize('NFD', s)\n",
    "        if unicodedata.category(c) != 'Mn'\n",
    "        and c in all_letters\n",
    "    )\n",
    "\n",
    "filenames = os.listdir(\"./datasets/names\")\n",
    "names_data = {}\n",
    "\n",
    "for filename in filenames:\n",
    "    f = open(f\"./datasets/names/{filename}\")\n",
    "    data = f.read()\n",
    "    names = list(filter(lambda l: len(l) > 0, map(lambda n: unicode_to_ascii(n.strip()).lower().strip(','), data.split(\"\\n\"))))\n",
    "    names_data[filename.strip(\".txt\").lower()] = names\n",
    "    f.close()\n",
    "\n",
    "languages = list(names_data.keys())\n",
    "languages.sort()\n",
    "\n",
    "\n",
    "def one_hot_code(name):\n",
    "    line_vector = []\n",
    "    for c in name:\n",
    "        letter_vector = [0] * 28\n",
    "        i = ord(c) - 97\n",
    "        if i == ord(\" \") - 97:\n",
    "            letter_vector[26] = 1\n",
    "        elif i == ord(\"'\") - 97:\n",
    "            letter_vector[27] = 1\n",
    "        else:\n",
    "            letter_vector[i] = 1\n",
    "\n",
    "        line_vector.append(letter_vector)\n",
    "    \n",
    "    return line_vector\n",
    "\n",
    "\n",
    "def one_hot_to_word(name_vec):\n",
    "    name = \"\"\n",
    "    for letter_vec in name_vec:\n",
    "        num = np.argmax(letter_vec)\n",
    "        if num == 26:\n",
    "            name = name + \" \"\n",
    "        elif num == 27:\n",
    "            name = name + \"'\"\n",
    "        else:\n",
    "            name = name + chr(num + 97)\n",
    "    \n",
    "    return name\n",
    "\n",
    "\n",
    "def label_to_vec(lang):\n",
    "    label_vec = [0] * len(languages)\n",
    "    i = languages.index(lang)\n",
    "    label_vec[i] = 1\n",
    "    \n",
    "    return label_vec\n",
    "\n",
    "\n",
    "def vec_to_label(label_vec):\n",
    "    i = np.argmax(np.array(label_vec))\n",
    "    return languages[i]\n",
    "\n",
    "\n",
    "X_tr = []\n",
    "X_tst = []\n",
    "Y_tr = []\n",
    "Y_tst = []\n",
    "\n",
    "for lang in languages:\n",
    "    label_vec = label_to_vec(lang)\n",
    "    lang_names = names_data[lang]\n",
    "    random.shuffle(lang_names)\n",
    "    for name in lang_names[:int(0.8 * len(lang_names))]:\n",
    "        name_vec = one_hot_code(name)\n",
    "        X_tr.append(name_vec)\n",
    "        Y_tr.append(label_vec)\n",
    "    for name in lang_names[int(0.8 * len(lang_names)):]:\n",
    "        name_vec = one_hot_code(name)\n",
    "        X_tst.append(name_vec)\n",
    "        Y_tst.append(label_vec)\n",
    "\n",
    "train_indices = list(range(len(X_tr)))\n",
    "test_indices = list(range(len(X_tst)))\n",
    "random.shuffle(train_indices)\n",
    "random.shuffle(test_indices)\n",
    "X_train = list(map(lambda i: X_tr[i], train_indices))\n",
    "Y_train = list(map(lambda i: Y_tr[i], train_indices))\n",
    "X_test = list(map(lambda i: X_tst[i], test_indices))\n",
    "Y_test = list(map(lambda i: Y_tst[i], test_indices))"
   ]
  },
  {
   "cell_type": "code",
   "execution_count": 5,
   "metadata": {},
   "outputs": [
    {
     "data": {
      "text/plain": [
       "('jidomirov', 'russian')"
      ]
     },
     "execution_count": 5,
     "metadata": {},
     "output_type": "execute_result"
    }
   ],
   "source": [
    "one_hot_to_word(X_train[3]), vec_to_label(Y_train[3])"
   ]
  },
  {
   "cell_type": "code",
   "execution_count": 6,
   "metadata": {},
   "outputs": [
    {
     "data": {
      "text/plain": [
       "18"
      ]
     },
     "execution_count": 6,
     "metadata": {},
     "output_type": "execute_result"
    }
   ],
   "source": [
    "len(languages)"
   ]
  },
  {
   "cell_type": "code",
   "execution_count": 8,
   "metadata": {},
   "outputs": [],
   "source": [
    "train_set = list(zip(X_train, Y_train))"
   ]
  },
  {
   "cell_type": "code",
   "execution_count": 9,
   "metadata": {},
   "outputs": [],
   "source": [
    "train_set = sorted(train_set, key=lambda t: len(t[0]), reverse=True)"
   ]
  },
  {
   "cell_type": "code",
   "execution_count": 10,
   "metadata": {},
   "outputs": [],
   "source": [
    "test_set = list(zip(X_test, Y_test))"
   ]
  },
  {
   "cell_type": "code",
   "execution_count": 11,
   "metadata": {},
   "outputs": [],
   "source": [
    "test_set = sorted(test_set, key=lambda t: len(t[0]), reverse=True)"
   ]
  },
  {
   "cell_type": "code",
   "execution_count": 20,
   "metadata": {},
   "outputs": [],
   "source": [
    "X_train = []\n",
    "X_train_lengths = []\n",
    "Y_train = []\n",
    "X_test = []\n",
    "X_test_lengths = []\n",
    "Y_test = []\n",
    "for x, y in train_set:\n",
    "    X_train.append(torch.tensor(x).float().to(device))\n",
    "    X_train_lengths.append(len(x))\n",
    "    Y_train.append(np.argmax(torch.tensor(y)))\n",
    "\n",
    "Y_train = torch.tensor(Y_train).to(device)\n",
    "\n",
    "for x, y in test_set:\n",
    "    X_test.append(torch.tensor(x).float().to(device))\n",
    "    X_test_lengths.append(len(x))\n",
    "    Y_test.append(np.argmax(torch.tensor(y)))\n",
    "\n",
    "Y_test = torch.tensor(Y_test).to(device)"
   ]
  },
  {
   "cell_type": "code",
   "execution_count": 21,
   "metadata": {},
   "outputs": [],
   "source": [
    "X_train_padded = torch.nn.utils.rnn.pad_sequence(X_train, batch_first=True)\n",
    "X_test_padded = torch.nn.utils.rnn.pad_sequence(X_test, batch_first=True)"
   ]
  },
  {
   "cell_type": "code",
   "execution_count": 22,
   "metadata": {},
   "outputs": [],
   "source": [
    "X_train_padded_packed = torch.nn.utils.rnn.pack_padded_sequence(X_train_padded, X_train_lengths, batch_first=True)"
   ]
  },
  {
   "cell_type": "code",
   "execution_count": 23,
   "metadata": {},
   "outputs": [
    {
     "data": {
      "text/plain": [
       "PackedSequence(data=tensor([[0., 0., 0.,  ..., 0., 0., 0.],\n",
       "        [0., 0., 0.,  ..., 0., 0., 0.],\n",
       "        [0., 0., 0.,  ..., 0., 0., 0.],\n",
       "        ...,\n",
       "        [0., 0., 0.,  ..., 0., 0., 0.],\n",
       "        [0., 0., 0.,  ..., 0., 0., 0.],\n",
       "        [0., 0., 0.,  ..., 0., 0., 0.]], device='cuda:0'), batch_sizes=tensor([16053, 16053, 16015, 15750, 14682, 12535,  9380,  6405,  3974,  2122,\n",
       "          977,   412,   165,    73,    37,    24,    20,     2,     1]), sorted_indices=None, unsorted_indices=None)"
      ]
     },
     "execution_count": 23,
     "metadata": {},
     "output_type": "execute_result"
    }
   ],
   "source": [
    "X_train_padded_packed"
   ]
  },
  {
   "cell_type": "code",
   "execution_count": 31,
   "metadata": {},
   "outputs": [],
   "source": [
    "class ModelOne(nn.Module):\n",
    "    \n",
    "    def __init__(self):\n",
    "        super(ModelOne, self).__init__()\n",
    "        self.rnn = nn.RNN(28, 128, 4, batch_first=True)\n",
    "        self.dense = nn.Linear(128, 18)\n",
    "    \n",
    "    def init_hidden(self, batch_size):\n",
    "        hidden = torch.zeros(4, batch_size, 128).to(device)\n",
    "\n",
    "        return hidden\n",
    "    \n",
    "    def forward(self, x, x_lengths):\n",
    "        batch_size = x.size(0)\n",
    "        max_sequence_size = x.size(1)\n",
    "        hidden = self.init_hidden(batch_size).float()\n",
    "        x = torch.nn.utils.rnn.pack_padded_sequence(x, x_lengths, batch_first=True)\n",
    "        out, hidden = self.rnn(x, hidden)\n",
    "        out, _ = torch.nn.utils.rnn.pad_packed_sequence(out, batch_first=True)\n",
    "        out = out.contiguous()\n",
    "        out = out.view(-1, 128)\n",
    "        out = self.dense(out)\n",
    "        out = out.view(batch_size, max_sequence_size, 18)\n",
    "        \n",
    "        indexes = torch.tensor(x_lengths) - 1\n",
    "        out = out[torch.arange(batch_size), indexes, :]\n",
    "        \n",
    "        return F.softmax(out, dim=1)"
   ]
  },
  {
   "cell_type": "code",
   "execution_count": 32,
   "metadata": {},
   "outputs": [],
   "source": [
    "model_one = ModelOne().to(device)"
   ]
  },
  {
   "cell_type": "code",
   "execution_count": 364,
   "metadata": {},
   "outputs": [],
   "source": [
    "output = model_one(X_train_padded, X_train_lengths)"
   ]
  },
  {
   "cell_type": "code",
   "execution_count": 365,
   "metadata": {},
   "outputs": [
    {
     "data": {
      "text/plain": [
       "16053"
      ]
     },
     "execution_count": 365,
     "metadata": {},
     "output_type": "execute_result"
    }
   ],
   "source": [
    "len(output)"
   ]
  },
  {
   "cell_type": "code",
   "execution_count": 366,
   "metadata": {},
   "outputs": [
    {
     "data": {
      "text/plain": [
       "torch.Size([16053, 18])"
      ]
     },
     "execution_count": 366,
     "metadata": {},
     "output_type": "execute_result"
    }
   ],
   "source": [
    "output.size()"
   ]
  },
  {
   "cell_type": "code",
   "execution_count": 367,
   "metadata": {},
   "outputs": [
    {
     "data": {
      "text/plain": [
       "tensor([0.0553, 0.0519, 0.0628, 0.0535, 0.0580, 0.0517, 0.0587, 0.0560, 0.0576,\n",
       "        0.0484, 0.0504, 0.0604, 0.0506, 0.0488, 0.0542, 0.0706, 0.0546, 0.0567],\n",
       "       grad_fn=<SelectBackward>)"
      ]
     },
     "execution_count": 367,
     "metadata": {},
     "output_type": "execute_result"
    }
   ],
   "source": [
    "output[0]"
   ]
  },
  {
   "cell_type": "code",
   "execution_count": 18,
   "metadata": {},
   "outputs": [
    {
     "data": {
      "text/plain": [
       "('shirinskyshikhmatov', 'russian')"
      ]
     },
     "execution_count": 18,
     "metadata": {},
     "output_type": "execute_result"
    }
   ],
   "source": [
    "one_hot_to_word(X_train[0]), languages[int(Y_train[0])]"
   ]
  },
  {
   "cell_type": "code",
   "execution_count": 33,
   "metadata": {},
   "outputs": [
    {
     "name": "stdout",
     "output_type": "stream",
     "text": [
      "(16053, 16053, 4021, 4021)\n"
     ]
    }
   ],
   "source": [
    "optimizer = optim.Adam(model_one.parameters(), lr=0.001)\n",
    "model_one, train_accuracy, test_accuracy = train_model(model_one, optimizer, X_train, X_train_lengths, Y_train, X_test, X_test_lengths, Y_test, epochs=500)"
   ]
  },
  {
   "cell_type": "code",
   "execution_count": 34,
   "metadata": {},
   "outputs": [
    {
     "data": {
      "image/png": "[encoded data removed]",
      "text/plain": [
       "<Figure size 432x288 with 1 Axes>"
      ]
     },
     "metadata": {
      "needs_background": "light"
     },
     "output_type": "display_data"
    }
   ],
   "source": [
    "fig, ax = plt.subplots()\n",
    "ax.plot(train_accuracy, \"b-\", label=\"Train Accuracy\")\n",
    "ax.plot(test_accuracy, \"r-\", label=\"Test Accuracy\")\n",
    "leg = ax.legend()"
   ]
  },
  {
   "cell_type": "code",
   "execution_count": null,
   "metadata": {},
   "outputs": [],
   "source": []
  }
 ],
 "metadata": {
  "kernelspec": {
   "display_name": "Python 3",
   "language": "python",
   "name": "python3"
  },
  "language_info": {
   "codemirror_mode": {
    "name": "ipython",
    "version": 3
   },
   "file_extension": ".py",
   "mimetype": "text/x-python",
   "name": "python",
   "nbconvert_exporter": "python",
   "pygments_lexer": "ipython3",
   "version": "3.6.9"
  }
 },
 "nbformat": 4,
 "nbformat_minor": 4
}
