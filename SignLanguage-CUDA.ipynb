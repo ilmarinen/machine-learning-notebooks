{
 "cells": [
  {
   "cell_type": "code",
   "execution_count": 2,
   "metadata": {},
   "outputs": [],
   "source": [
    "import torch.nn as nn\n",
    "import torch.nn.functional as F\n",
    "import numpy as np\n",
    "\n",
    "%matplotlib inline\n",
    "from matplotlib import pyplot as plt"
   ]
  },
  {
   "cell_type": "code",
   "execution_count": 3,
   "metadata": {},
   "outputs": [],
   "source": [
    "class Net(nn.Module):\n",
    "    \n",
    "    def __init__(self):\n",
    "        super().__init__()\n",
    "        \n",
    "        # self.fc1 = nn.Linear(64*64, 192)\n",
    "        self.conv1 = nn.Conv2d(1, 18, kernel_size=3, stride=1, padding=1)\n",
    "        self.fc2 = nn.Linear(18*64*64, 192)\n",
    "        self.fc3 = nn.Linear(192, 192)\n",
    "        self.fc4 = nn.Linear(192, 192)\n",
    "        self.fc5 = nn.Linear(192, 192)\n",
    "        self.fc6 = nn.Linear(192, 10)\n",
    "    \n",
    "    def forward(self, x):\n",
    "        x = F.relu(self.conv1(x))\n",
    "        x = x.view(-1, 18*64*64)\n",
    "        x = F.relu(self.fc2(x))\n",
    "        x = F.relu(self.fc3(x))\n",
    "        x = F.relu(self.fc4(x))\n",
    "        x = F.relu(self.fc5(x))\n",
    "        x = self.fc6(x)\n",
    "        \n",
    "        return F.softmax(x, dim=1)"
   ]
  },
  {
   "cell_type": "code",
   "execution_count": 4,
   "metadata": {},
   "outputs": [],
   "source": [
    "X = np.load(\"datasets/sign-language/X.npy\")\n",
    "Y = np.load(\"datasets/sign-language/Y.npy\")"
   ]
  },
  {
   "cell_type": "code",
   "execution_count": 5,
   "metadata": {},
   "outputs": [],
   "source": [
    "import random\n",
    "import torch\n",
    "\n",
    "device = 'cuda' if torch.cuda.is_available() else 'cpu'\n",
    "indices = list(range(2062))\n",
    "random.shuffle(indices)\n",
    "train_indices = indices[:int(0.8 * 2062)]\n",
    "test_indices = indices[int(0.8 * 2062):]\n",
    "\n",
    "X_train = [X[i] for i in train_indices]\n",
    "Y_train = [int(torch.argmax(torch.tensor(Y[i]))) for i in train_indices]\n",
    "X_test = [X[i] for i in test_indices]\n",
    "Y_test = [int(torch.argmax(torch.tensor(Y[i]))) for i in test_indices]"
   ]
  },
  {
   "cell_type": "code",
   "execution_count": 6,
   "metadata": {},
   "outputs": [],
   "source": [
    "X_train = torch.tensor(X_train).float().to(device)\n",
    "Y_train = torch.tensor(Y_train).to(device)\n",
    "X_test = torch.tensor(X_test).float().to(device)\n",
    "Y_test = torch.tensor(Y_test).to(device)"
   ]
  },
  {
   "cell_type": "code",
   "execution_count": 45,
   "metadata": {},
   "outputs": [],
   "source": [
    "net = Net().cuda()"
   ]
  },
  {
   "cell_type": "code",
   "execution_count": 46,
   "metadata": {},
   "outputs": [
    {
     "data": {
      "text/plain": [
       "tensor([[0.1005, 0.0923, 0.1035, 0.1048, 0.1039, 0.1018, 0.1034, 0.1022, 0.0958,\n",
       "         0.0918]], device='cuda:0', grad_fn=<SoftmaxBackward>)"
      ]
     },
     "execution_count": 46,
     "metadata": {},
     "output_type": "execute_result"
    }
   ],
   "source": [
    "output = net(X_train[0].view(1, 1, 64, 64))\n",
    "output"
   ]
  },
  {
   "cell_type": "code",
   "execution_count": 47,
   "metadata": {},
   "outputs": [],
   "source": [
    "import torch.optim as optim\n",
    "optimizer = optim.Adam([net.conv1.weight, net.fc2.weight, net.fc3.weight, net.fc4.weight, net.fc5.weight, net.fc6.weight], lr=0.001)\n",
    "X_train = X_train\n",
    "Y_train = Y_train\n",
    "\n",
    "error_in = []\n",
    "error_out_approx = []\n",
    "for i in range(500):\n",
    "    net.zero_grad()\n",
    "    output = net(X_train.view(len(train_indices), 1, 64, 64))\n",
    "    loss = F.cross_entropy(output, Y_train)\n",
    "    loss.backward()\n",
    "    optimizer.step()\n",
    "    optimizer.zero_grad()\n",
    "    error_in.append(float(loss))\n",
    "    output_test = net(X_test.view(len(test_indices), 1, 64, 64))\n",
    "    loss_test = F.cross_entropy(output_test, Y_test)\n",
    "    error_out_approx.append(float(loss_test))"
   ]
  },
  {
   "cell_type": "code",
   "execution_count": 48,
   "metadata": {},
   "outputs": [
    {
     "data": {
      "image/png": "[encoded data removed]",
      "text/plain": [
       "<Figure size 432x288 with 1 Axes>"
      ]
     },
     "metadata": {
      "needs_background": "light"
     },
     "output_type": "display_data"
    }
   ],
   "source": [
    "fig, ax = plt.subplots()\n",
    "ax.plot(error_in, \"b-\", label=\"In-Sample Error\")\n",
    "ax.plot(error_out_approx, \"r-\", label=\"Approx Out-of-Sample Error\")\n",
    "leg = ax.legend()"
   ]
  },
  {
   "cell_type": "code",
   "execution_count": 49,
   "metadata": {},
   "outputs": [],
   "source": [
    "output_test = net(X_test.view(len(test_indices), 1, 64, 64))"
   ]
  },
  {
   "cell_type": "code",
   "execution_count": 50,
   "metadata": {},
   "outputs": [
    {
     "name": "stdout",
     "output_type": "stream",
     "text": [
      "0.7336561743341404\n"
     ]
    }
   ],
   "source": [
    "total = 0\n",
    "correct = 0\n",
    "for i, out_t in enumerate(output_test):\n",
    "    if int(torch.argmax(out_t)) - int(Y_test[i]) == 0:\n",
    "        correct = correct + 1\n",
    "    total = total + 1\n",
    "\n",
    "print(correct/total)"
   ]
  },
  {
   "cell_type": "code",
   "execution_count": 51,
   "metadata": {},
   "outputs": [],
   "source": [
    "class NetTwo(nn.Module):\n",
    "    \n",
    "    def __init__(self):\n",
    "        super().__init__()\n",
    "        \n",
    "        self.conv1 = nn.Conv2d(1, 1, kernel_size=3, stride=1, padding=1)\n",
    "        self.max_pool = nn.MaxPool2d(2, stride=2)\n",
    "        self.dense = nn.Linear(32*32, 128)\n",
    "        self.dense_output = nn.Linear(128, 10)\n",
    "    \n",
    "    def forward(self, x):\n",
    "        x = F.relu(self.conv1(x))\n",
    "        x = self.max_pool(x)\n",
    "        x = x.view(-1, 1*32*32)\n",
    "        x = F.relu(self.dense(x))\n",
    "        x = self.dense_output(x)\n",
    "        \n",
    "        return F.softmax(x, dim=1)"
   ]
  },
  {
   "cell_type": "code",
   "execution_count": 52,
   "metadata": {},
   "outputs": [],
   "source": [
    "net_two = NetTwo().cuda()"
   ]
  },
  {
   "cell_type": "code",
   "execution_count": 53,
   "metadata": {},
   "outputs": [
    {
     "data": {
      "text/plain": [
       "tensor([[0.0977, 0.0938, 0.1000, 0.0994, 0.1073, 0.1129, 0.0894, 0.0913, 0.0989,\n",
       "         0.1095]], device='cuda:0', grad_fn=<SoftmaxBackward>)"
      ]
     },
     "execution_count": 53,
     "metadata": {},
     "output_type": "execute_result"
    }
   ],
   "source": [
    "output_two = net_two(X_train[0].view(1, 1, 64, 64))\n",
    "output_two"
   ]
  },
  {
   "cell_type": "code",
   "execution_count": 54,
   "metadata": {},
   "outputs": [],
   "source": [
    "import torch.optim as optim\n",
    "optimizer = optim.Adam([net_two.conv1.weight, net_two.dense.weight, net_two.dense_output.weight], lr=0.001)\n",
    "X_train = X_train\n",
    "Y_train = Y_train\n",
    "\n",
    "error_in_two = []\n",
    "error_out_approx_two = []\n",
    "for i in range(500):\n",
    "    net.zero_grad()\n",
    "    output = net_two(X_train.view(len(train_indices), 1, 64, 64))\n",
    "    loss = F.cross_entropy(output, Y_train)\n",
    "    loss.backward()\n",
    "    optimizer.step()\n",
    "    optimizer.zero_grad()\n",
    "    error_in_two.append(float(loss))\n",
    "    output_test = net_two(X_test.view(len(test_indices), 1, 64, 64))\n",
    "    loss_test = F.cross_entropy(output_test, Y_test)\n",
    "    error_out_approx_two.append(float(loss_test))"
   ]
  },
  {
   "cell_type": "code",
   "execution_count": 55,
   "metadata": {},
   "outputs": [
    {
     "data": {
      "image/png": "[encoded data removed]",
      "text/plain": [
       "<Figure size 432x288 with 1 Axes>"
      ]
     },
     "metadata": {
      "needs_background": "light"
     },
     "output_type": "display_data"
    }
   ],
   "source": [
    "fig, ax = plt.subplots()\n",
    "ax.plot(error_in_two, \"b-\", label=\"In-Sample Error\")\n",
    "ax.plot(error_out_approx_two, \"r-\", label=\"Approx Out-of-Sample Error\")\n",
    "leg = ax.legend()"
   ]
  },
  {
   "cell_type": "code",
   "execution_count": 56,
   "metadata": {},
   "outputs": [],
   "source": [
    "output_test_two = net_two(X_test.view(len(test_indices), 1, 64, 64))"
   ]
  },
  {
   "cell_type": "code",
   "execution_count": 58,
   "metadata": {},
   "outputs": [
    {
     "name": "stdout",
     "output_type": "stream",
     "text": [
      "0.7263922518159807\n"
     ]
    }
   ],
   "source": [
    "total = 0\n",
    "correct = 0\n",
    "for i, out_t in enumerate(output_test_two):\n",
    "    if int(torch.argmax(out_t)) - int(Y_test[i]) == 0:\n",
    "        correct = correct + 1\n",
    "    total = total + 1\n",
    "\n",
    "print(correct/total)"
   ]
  },
  {
   "cell_type": "code",
   "execution_count": 68,
   "metadata": {},
   "outputs": [],
   "source": [
    "class NetThree(nn.Module):\n",
    "    \n",
    "    def __init__(self):\n",
    "        super().__init__()\n",
    "        \n",
    "        self.conv1 = nn.Conv2d(1, 1, kernel_size=3, stride=1, padding=1)\n",
    "        self.max_pool1 = nn.MaxPool2d(2, stride=2)\n",
    "        self.conv2 = nn.Conv2d(1, 1, kernel_size=3, stride=1, padding=1)\n",
    "        self.max_pool2 = nn.MaxPool2d(2, stride=2)\n",
    "        self.dense = nn.Linear(16*16, 128)\n",
    "        self.dense_output = nn.Linear(128, 10)\n",
    "    \n",
    "    def forward(self, x):\n",
    "        x = F.relu(self.conv1(x))\n",
    "        x = self.max_pool1(x)\n",
    "        x = F.relu(self.conv2(x))\n",
    "        x = self.max_pool2(x)\n",
    "        x = x.view(-1, 1*16*16)\n",
    "        x = F.relu(self.dense(x))\n",
    "        x = self.dense_output(x)\n",
    "        \n",
    "        return F.softmax(x, dim=1)"
   ]
  },
  {
   "cell_type": "code",
   "execution_count": 69,
   "metadata": {},
   "outputs": [],
   "source": [
    "net_three = NetThree().cuda()"
   ]
  },
  {
   "cell_type": "code",
   "execution_count": 70,
   "metadata": {},
   "outputs": [
    {
     "data": {
      "text/plain": [
       "tensor([[0.1022, 0.1042, 0.0907, 0.1056, 0.1018, 0.0960, 0.0985, 0.0955, 0.0949,\n",
       "         0.1106]], device='cuda:0', grad_fn=<SoftmaxBackward>)"
      ]
     },
     "execution_count": 70,
     "metadata": {},
     "output_type": "execute_result"
    }
   ],
   "source": [
    "output_three = net_three(X_train[0].view(1, 1, 64, 64))\n",
    "output_three"
   ]
  },
  {
   "cell_type": "code",
   "execution_count": 71,
   "metadata": {},
   "outputs": [],
   "source": [
    "import torch.optim as optim\n",
    "optimizer = optim.Adam([net_three.conv1.weight, net_three.conv2.weight, net_three.dense.weight, net_three.dense_output.weight], lr=0.001)\n",
    "X_train = X_train\n",
    "Y_train = Y_train\n",
    "\n",
    "error_in_three = []\n",
    "error_out_approx_three = []\n",
    "for i in range(500):\n",
    "    net_three.zero_grad()\n",
    "    output = net_three(X_train.view(len(train_indices), 1, 64, 64))\n",
    "    loss = F.cross_entropy(output, Y_train)\n",
    "    loss.backward()\n",
    "    optimizer.step()\n",
    "    optimizer.zero_grad()\n",
    "    error_in_three.append(float(loss))\n",
    "    output_test = net_three(X_test.view(len(test_indices), 1, 64, 64))\n",
    "    loss_test = F.cross_entropy(output_test, Y_test)\n",
    "    error_out_approx_three.append(float(loss_test))"
   ]
  },
  {
   "cell_type": "code",
   "execution_count": 72,
   "metadata": {},
   "outputs": [
    {
     "data": {
      "image/png": "[encoded data removed]",
      "text/plain": [
       "<Figure size 432x288 with 1 Axes>"
      ]
     },
     "metadata": {
      "needs_background": "light"
     },
     "output_type": "display_data"
    }
   ],
   "source": [
    "fig, ax = plt.subplots()\n",
    "ax.plot(error_in_three, \"b-\", label=\"In-Sample Error\")\n",
    "ax.plot(error_out_approx_three, \"r-\", label=\"Approx Out-of-Sample Error\")\n",
    "leg = ax.legend()"
   ]
  },
  {
   "cell_type": "code",
   "execution_count": 73,
   "metadata": {},
   "outputs": [],
   "source": [
    "output_test_three = net_three(X_test.view(len(test_indices), 1, 64, 64))"
   ]
  },
  {
   "cell_type": "code",
   "execution_count": 74,
   "metadata": {},
   "outputs": [
    {
     "name": "stdout",
     "output_type": "stream",
     "text": [
      "0.8401937046004843\n"
     ]
    }
   ],
   "source": [
    "total = 0\n",
    "correct = 0\n",
    "for i, out_t in enumerate(output_test_three):\n",
    "    if int(torch.argmax(out_t)) - int(Y_test[i]) == 0:\n",
    "        correct = correct + 1\n",
    "    total = total + 1\n",
    "\n",
    "print(correct/total)"
   ]
  },
  {
   "cell_type": "code",
   "execution_count": 75,
   "metadata": {},
   "outputs": [],
   "source": [
    "class NetFour(nn.Module):\n",
    "    \n",
    "    def __init__(self):\n",
    "        super().__init__()\n",
    "        \n",
    "        self.conv1 = nn.Conv2d(1, 1, kernel_size=3, stride=1, padding=1)\n",
    "        self.max_pool1 = nn.MaxPool2d(2, stride=2)\n",
    "        self.conv2 = nn.Conv2d(1, 1, kernel_size=3, stride=1, padding=1)\n",
    "        self.max_pool2 = nn.MaxPool2d(2, stride=2)\n",
    "        self.conv3 = nn.Conv2d(1, 1, kernel_size=3, stride=1, padding=1)\n",
    "        self.max_pool3 = nn.MaxPool2d(2, stride=2)\n",
    "        self.dense = nn.Linear(8*8, 128)\n",
    "        self.dense_output = nn.Linear(128, 10)\n",
    "    \n",
    "    def forward(self, x):\n",
    "        x = F.relu(self.conv1(x))\n",
    "        x = self.max_pool1(x)\n",
    "        x = F.relu(self.conv2(x))\n",
    "        x = self.max_pool2(x)\n",
    "        x = F.relu(self.conv3(x))\n",
    "        x = self.max_pool3(x)\n",
    "        x = x.view(-1, 1*8*8)\n",
    "        x = F.relu(self.dense(x))\n",
    "        x = self.dense_output(x)\n",
    "        \n",
    "        return F.softmax(x, dim=1)"
   ]
  },
  {
   "cell_type": "code",
   "execution_count": 84,
   "metadata": {},
   "outputs": [],
   "source": [
    "net_four = NetFour().cuda()"
   ]
  },
  {
   "cell_type": "code",
   "execution_count": 85,
   "metadata": {},
   "outputs": [
    {
     "data": {
      "text/plain": [
       "tensor([[0.0942, 0.0957, 0.1027, 0.0957, 0.1082, 0.1075, 0.0977, 0.1026, 0.1011,\n",
       "         0.0946]], device='cuda:0', grad_fn=<SoftmaxBackward>)"
      ]
     },
     "execution_count": 85,
     "metadata": {},
     "output_type": "execute_result"
    }
   ],
   "source": [
    "output_four = net_four(X_train[0].view(1, 1, 64, 64))\n",
    "output_four"
   ]
  },
  {
   "cell_type": "code",
   "execution_count": 86,
   "metadata": {},
   "outputs": [],
   "source": [
    "import torch.optim as optim\n",
    "optimizer = optim.Adam([net_four.conv1.weight, net_four.conv2.weight, net_four.conv3.weight, net_four.dense.weight, net_four.dense_output.weight], lr=0.001)\n",
    "X_train = X_train\n",
    "Y_train = Y_train\n",
    "\n",
    "error_in_four = []\n",
    "error_out_approx_four = []\n",
    "for i in range(500):\n",
    "    net_four.zero_grad()\n",
    "    output = net_four(X_train.view(len(train_indices), 1, 64, 64))\n",
    "    loss = F.cross_entropy(output, Y_train)\n",
    "    loss.backward()\n",
    "    optimizer.step()\n",
    "    optimizer.zero_grad()\n",
    "    error_in_four.append(float(loss))\n",
    "    output_test = net_four(X_test.view(len(test_indices), 1, 64, 64))\n",
    "    loss_test = F.cross_entropy(output_test, Y_test)\n",
    "    error_out_approx_four.append(float(loss_test))"
   ]
  },
  {
   "cell_type": "code",
   "execution_count": 87,
   "metadata": {},
   "outputs": [
    {
     "data": {
      "image/png": "[encoded data removed]",
      "text/plain": [
       "<Figure size 432x288 with 1 Axes>"
      ]
     },
     "metadata": {
      "needs_background": "light"
     },
     "output_type": "display_data"
    }
   ],
   "source": [
    "fig, ax = plt.subplots()\n",
    "ax.plot(error_in_four, \"b-\", label=\"In-Sample Error\")\n",
    "ax.plot(error_out_approx_four, \"r-\", label=\"Approx Out-of-Sample Error\")\n",
    "leg = ax.legend()"
   ]
  },
  {
   "cell_type": "code",
   "execution_count": 82,
   "metadata": {},
   "outputs": [],
   "source": [
    "output_test_four = net_four(X_test.view(len(test_indices), 1, 64, 64))"
   ]
  },
  {
   "cell_type": "code",
   "execution_count": 83,
   "metadata": {},
   "outputs": [
    {
     "name": "stdout",
     "output_type": "stream",
     "text": [
      "0.07990314769975787\n"
     ]
    }
   ],
   "source": [
    "total = 0\n",
    "correct = 0\n",
    "for i, out_t in enumerate(output_test_four):\n",
    "    if int(torch.argmax(out_t)) - int(Y_test[i]) == 0:\n",
    "        correct = correct + 1\n",
    "    total = total + 1\n",
    "\n",
    "print(correct/total)"
   ]
  },
  {
   "cell_type": "code",
   "execution_count": null,
   "metadata": {},
   "outputs": [],
   "source": []
  }
 ],
 "metadata": {
  "kernelspec": {
   "display_name": "Python 3",
   "language": "python",
   "name": "python3"
  },
  "language_info": {
   "codemirror_mode": {
    "name": "ipython",
    "version": 3
   },
   "file_extension": ".py",
   "mimetype": "text/x-python",
   "name": "python",
   "nbconvert_exporter": "python",
   "pygments_lexer": "ipython3",
   "version": "3.6.9"
  }
 },
 "nbformat": 4,
 "nbformat_minor": 2
}
