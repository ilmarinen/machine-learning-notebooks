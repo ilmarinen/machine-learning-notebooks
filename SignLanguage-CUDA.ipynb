{
 "cells": [
  {
   "cell_type": "code",
   "execution_count": 2,
   "metadata": {},
   "outputs": [],
   "source": [
    "import torch.nn as nn\n",
    "import torch.nn.functional as F\n",
    "import torch.optim as optim\n",
    "import numpy as np\n",
    "import random\n",
    "import torch\n",
    "\n",
    "%matplotlib inline\n",
    "from matplotlib import pyplot as plt"
   ]
  },
  {
   "cell_type": "code",
   "execution_count": 3,
   "metadata": {},
   "outputs": [],
   "source": [
    "def train_model(model, optimizer, train_indices, test_indices, X_train, Y_train, X_test, Y_test, epochs=500):\n",
    "    X_train = X_train\n",
    "    Y_train = Y_train\n",
    "\n",
    "    train_accuracy = []\n",
    "    test_accuracy = []\n",
    "    for i in range(epochs):\n",
    "        model.zero_grad()\n",
    "        output = model(X_train.view(len(train_indices), 1, 64, 64))\n",
    "        loss = F.cross_entropy(output, Y_train)\n",
    "        loss.backward()\n",
    "        optimizer.step()\n",
    "        optimizer.zero_grad()\n",
    "        tr_accuracy = test_model(model, train_indices, X_train, Y_train)\n",
    "        train_accuracy.append(tr_accuracy)\n",
    "        output_test = model(X_test.view(len(test_indices), 1, 64, 64))\n",
    "        loss_test = F.cross_entropy(output_test, Y_test)\n",
    "        tst_accuracy = test_model(model, test_indices, X_test, Y_test)\n",
    "        test_accuracy.append(tst_accuracy)\n",
    "    \n",
    "    return model, train_accuracy, test_accuracy"
   ]
  },
  {
   "cell_type": "code",
   "execution_count": 17,
   "metadata": {},
   "outputs": [],
   "source": [
    "def test_model(model, indices, X_samp, Y_samp):\n",
    "    output_test = model(X_samp.view(len(indices), 1, 64, 64))\n",
    "    total = 0\n",
    "    correct = 0\n",
    "    for i, out_t in enumerate(output_test):\n",
    "        if int(torch.argmax(out_t)) - int(Y_samp[i]) == 0:\n",
    "            correct = correct + 1\n",
    "        total = total + 1\n",
    "\n",
    "    return (correct/total)"
   ]
  },
  {
   "cell_type": "code",
   "execution_count": 18,
   "metadata": {},
   "outputs": [],
   "source": [
    "X = np.load(\"datasets/sign-language/X.npy\")\n",
    "Y = np.load(\"datasets/sign-language/Y.npy\")"
   ]
  },
  {
   "cell_type": "code",
   "execution_count": 19,
   "metadata": {},
   "outputs": [],
   "source": [
    "def partition_data(X, Y):\n",
    "    num_samples, _, _ = X.shape\n",
    "    samples_by_digit = {\n",
    "        0: [],\n",
    "        1: [],\n",
    "        2: [],\n",
    "        3: [],\n",
    "        4: [],\n",
    "        5: [],\n",
    "        6: [],\n",
    "        7: [],\n",
    "        8: [],\n",
    "        9: []\n",
    "    }\n",
    "    for i in range(num_samples):\n",
    "        samples_by_digit[np.argmax(Y[i])].append(i)\n",
    "    \n",
    "    train_indices = []\n",
    "    test_indices = []\n",
    "    for _, digit_sample_indices in samples_by_digit.items():\n",
    "        random.shuffle(digit_sample_indices)\n",
    "        train_indices = train_indices + digit_sample_indices[:int(0.8 * len(digit_sample_indices))]\n",
    "        test_indices = test_indices + digit_sample_indices[int(0.8 * len(digit_sample_indices)):]\n",
    "    \n",
    "    random.shuffle(train_indices)\n",
    "    random.shuffle(test_indices)\n",
    "    X_train = [X[i] for i in train_indices]\n",
    "    Y_train = [int(torch.argmax(torch.tensor(Y[i]))) for i in train_indices]\n",
    "    X_test = [X[i] for i in test_indices]\n",
    "    Y_test = [int(torch.argmax(torch.tensor(Y[i]))) for i in test_indices]\n",
    "    \n",
    "    return X_train, X_test, Y_train, Y_test, test_indices, train_indices"
   ]
  },
  {
   "cell_type": "code",
   "execution_count": 6,
   "metadata": {},
   "outputs": [],
   "source": [
    "class Net(nn.Module):\n",
    "    \n",
    "    def __init__(self):\n",
    "        super().__init__()\n",
    "        \n",
    "        # self.fc1 = nn.Linear(64*64, 192)\n",
    "        self.conv1 = nn.Conv2d(1, 18, kernel_size=3, stride=1, padding=1)\n",
    "        self.fc2 = nn.Linear(18*64*64, 192)\n",
    "        self.fc3 = nn.Linear(192, 192)\n",
    "        self.fc4 = nn.Linear(192, 192)\n",
    "        self.fc5 = nn.Linear(192, 192)\n",
    "        self.fc6 = nn.Linear(192, 10)\n",
    "    \n",
    "    def forward(self, x):\n",
    "        x = F.relu(self.conv1(x))\n",
    "        x = x.view(-1, 18*64*64)\n",
    "        x = F.relu(self.fc2(x))\n",
    "        x = F.relu(self.fc3(x))\n",
    "        x = F.relu(self.fc4(x))\n",
    "        x = F.relu(self.fc5(x))\n",
    "        x = self.fc6(x)\n",
    "        \n",
    "        return F.softmax(x, dim=1)"
   ]
  },
  {
   "cell_type": "code",
   "execution_count": 20,
   "metadata": {},
   "outputs": [],
   "source": [
    "X = np.load(\"datasets/sign-language/X.npy\")\n",
    "Y = np.load(\"datasets/sign-language/Y.npy\")"
   ]
  },
  {
   "cell_type": "code",
   "execution_count": 21,
   "metadata": {},
   "outputs": [],
   "source": [
    "import random\n",
    "import torch\n",
    "\n",
    "device = 'cuda' if torch.cuda.is_available() else 'cpu'\n",
    "\n",
    "X_train, X_test, Y_train, Y_test, test_indices, train_indices = partition_data(X, Y)"
   ]
  },
  {
   "cell_type": "code",
   "execution_count": 22,
   "metadata": {},
   "outputs": [],
   "source": [
    "X_train = torch.tensor(X_train).float().to(device)\n",
    "Y_train = torch.tensor(Y_train).to(device)\n",
    "X_test = torch.tensor(X_test).float().to(device)\n",
    "Y_test = torch.tensor(Y_test).to(device)"
   ]
  },
  {
   "cell_type": "code",
   "execution_count": 10,
   "metadata": {},
   "outputs": [],
   "source": [
    "net = Net().cuda()"
   ]
  },
  {
   "cell_type": "code",
   "execution_count": 11,
   "metadata": {},
   "outputs": [
    {
     "data": {
      "text/plain": [
       "tensor([[0.0961, 0.0952, 0.1009, 0.1076, 0.0968, 0.1066, 0.0999, 0.1017, 0.0975,\n",
       "         0.0977]], device='cuda:0', grad_fn=<SoftmaxBackward>)"
      ]
     },
     "execution_count": 11,
     "metadata": {},
     "output_type": "execute_result"
    }
   ],
   "source": [
    "output = net(X_train[0].view(1, 1, 64, 64))\n",
    "output"
   ]
  },
  {
   "cell_type": "code",
   "execution_count": 12,
   "metadata": {},
   "outputs": [],
   "source": [
    "optimizer = optim.Adam([net.conv1.weight, net.fc2.weight, net.fc3.weight, net.fc4.weight, net.fc5.weight, net.fc6.weight], lr=0.001)\n",
    "net, train_accuracy, test_accuracy = train_model(net, optimizer, train_indices, test_indices, X_train, Y_train, X_test, Y_test)"
   ]
  },
  {
   "cell_type": "code",
   "execution_count": 13,
   "metadata": {},
   "outputs": [
    {
     "data": {
      "image/png": "[encoded data removed]",
      "text/plain": [
       "<Figure size 432x288 with 1 Axes>"
      ]
     },
     "metadata": {
      "needs_background": "light"
     },
     "output_type": "display_data"
    }
   ],
   "source": [
    "fig, ax = plt.subplots()\n",
    "ax.plot(train_accuracy, \"b-\", label=\"Train Accuracy\")\n",
    "ax.plot(test_accuracy, \"r-\", label=\"Test Accuracy\")\n",
    "leg = ax.legend()"
   ]
  },
  {
   "cell_type": "code",
   "execution_count": 14,
   "metadata": {},
   "outputs": [
    {
     "name": "stdout",
     "output_type": "stream",
     "text": [
      "0.8181818181818182\n"
     ]
    }
   ],
   "source": [
    "test_result = test_model(net, test_indices, X_test, Y_test)\n",
    "print(test_result)"
   ]
  },
  {
   "cell_type": "code",
   "execution_count": 15,
   "metadata": {},
   "outputs": [],
   "source": [
    "class NetTwo(nn.Module):\n",
    "    \n",
    "    def __init__(self):\n",
    "        super().__init__()\n",
    "        \n",
    "        self.conv1 = nn.Conv2d(1, 1, kernel_size=3, stride=1, padding=1)\n",
    "        self.max_pool = nn.MaxPool2d(2, stride=2)\n",
    "        self.dense = nn.Linear(32*32, 128)\n",
    "        self.dense_output = nn.Linear(128, 10)\n",
    "    \n",
    "    def forward(self, x):\n",
    "        x = F.relu(self.conv1(x))\n",
    "        x = self.max_pool(x)\n",
    "        x = x.view(-1, 1*32*32)\n",
    "        x = F.relu(self.dense(x))\n",
    "        x = self.dense_output(x)\n",
    "        \n",
    "        return F.softmax(x, dim=1)"
   ]
  },
  {
   "cell_type": "code",
   "execution_count": 16,
   "metadata": {},
   "outputs": [],
   "source": [
    "net_two = NetTwo().cuda()"
   ]
  },
  {
   "cell_type": "code",
   "execution_count": 17,
   "metadata": {},
   "outputs": [
    {
     "data": {
      "text/plain": [
       "tensor([[0.1006, 0.0852, 0.1090, 0.0925, 0.0935, 0.1007, 0.1003, 0.1124, 0.0986,\n",
       "         0.1072]], device='cuda:0', grad_fn=<SoftmaxBackward>)"
      ]
     },
     "execution_count": 17,
     "metadata": {},
     "output_type": "execute_result"
    }
   ],
   "source": [
    "output_two = net_two(X_train[0].view(1, 1, 64, 64))\n",
    "output_two"
   ]
  },
  {
   "cell_type": "code",
   "execution_count": 18,
   "metadata": {},
   "outputs": [],
   "source": [
    "optimizer = optim.Adam([net_two.conv1.weight, net_two.dense.weight, net_two.dense_output.weight], lr=0.001)\n",
    "net_two, train_accuracy, test_accuracy = train_model(net_two, optimizer, train_indices, test_indices, X_train, Y_train, X_test, Y_test)\n",
    "\n"
   ]
  },
  {
   "cell_type": "code",
   "execution_count": 19,
   "metadata": {},
   "outputs": [
    {
     "data": {
      "image/png": "[encoded data removed]",
      "text/plain": [
       "<Figure size 432x288 with 1 Axes>"
      ]
     },
     "metadata": {
      "needs_background": "light"
     },
     "output_type": "display_data"
    }
   ],
   "source": [
    "fig, ax = plt.subplots()\n",
    "ax.plot(train_accuracy, \"b-\", label=\"Train Accuracy\")\n",
    "ax.plot(test_accuracy, \"r-\", label=\"Test Accuracy\")\n",
    "leg = ax.legend()"
   ]
  },
  {
   "cell_type": "code",
   "execution_count": 115,
   "metadata": {},
   "outputs": [
    {
     "name": "stdout",
     "output_type": "stream",
     "text": [
      "0.7464114832535885\n"
     ]
    }
   ],
   "source": [
    "test_result = test_model(net_two, test_indices, X_test, Y_test)\n",
    "print(test_result)"
   ]
  },
  {
   "cell_type": "code",
   "execution_count": 10,
   "metadata": {},
   "outputs": [],
   "source": [
    "class NetThree(nn.Module):\n",
    "    \n",
    "    def __init__(self):\n",
    "        super().__init__()\n",
    "        \n",
    "        self.conv1 = nn.Conv2d(1, 1, kernel_size=3, stride=1, padding=1)\n",
    "        self.max_pool1 = nn.MaxPool2d(2, stride=2)\n",
    "        self.conv2 = nn.Conv2d(1, 1, kernel_size=3, stride=1, padding=1)\n",
    "        self.max_pool2 = nn.MaxPool2d(2, stride=2)\n",
    "        self.dense = nn.Linear(16*16, 128)\n",
    "        self.dense_output = nn.Linear(128, 10)\n",
    "    \n",
    "    def forward(self, x):\n",
    "        x = F.relu(self.conv1(x))\n",
    "        x = self.max_pool1(x)\n",
    "        x = F.relu(self.conv2(x))\n",
    "        x = self.max_pool2(x)\n",
    "        x = x.view(-1, 1*16*16)\n",
    "        x = F.relu(self.dense(x))\n",
    "        x = self.dense_output(x)\n",
    "        \n",
    "        return F.softmax(x, dim=1)"
   ]
  },
  {
   "cell_type": "code",
   "execution_count": 11,
   "metadata": {},
   "outputs": [],
   "source": [
    "net_three = NetThree().cuda()"
   ]
  },
  {
   "cell_type": "code",
   "execution_count": 12,
   "metadata": {},
   "outputs": [
    {
     "data": {
      "text/plain": [
       "tensor([[0.1019, 0.0901, 0.0886, 0.1195, 0.1129, 0.0866, 0.0895, 0.0935, 0.1184,\n",
       "         0.0990]], device='cuda:0', grad_fn=<SoftmaxBackward>)"
      ]
     },
     "execution_count": 12,
     "metadata": {},
     "output_type": "execute_result"
    }
   ],
   "source": [
    "output_three = net_three(X_train[0].view(1, 1, 64, 64))\n",
    "output_three"
   ]
  },
  {
   "cell_type": "code",
   "execution_count": 13,
   "metadata": {},
   "outputs": [],
   "source": [
    "optimizer = optim.Adam(net_three.parameters(), lr=0.001)\n",
    "net_three, train_accuracy, test_accuracy = train_model(net_three, optimizer, train_indices, test_indices, X_train, Y_train, X_test, Y_test, epochs=1000)"
   ]
  },
  {
   "cell_type": "code",
   "execution_count": 14,
   "metadata": {},
   "outputs": [
    {
     "data": {
      "image/png": "[encoded data removed]",
      "text/plain": [
       "<Figure size 432x288 with 1 Axes>"
      ]
     },
     "metadata": {
      "needs_background": "light"
     },
     "output_type": "display_data"
    }
   ],
   "source": [
    "fig, ax = plt.subplots()\n",
    "ax.plot(train_accuracy, \"b-\", label=\"Train Accuracy\")\n",
    "ax.plot(test_accuracy, \"r-\", label=\"Test Accuracy\")\n",
    "leg = ax.legend()"
   ]
  },
  {
   "cell_type": "code",
   "execution_count": 15,
   "metadata": {},
   "outputs": [
    {
     "name": "stdout",
     "output_type": "stream",
     "text": [
      "0.7392344497607656\n"
     ]
    }
   ],
   "source": [
    "test_result = test_model(net_three, test_indices, X_test, Y_test)\n",
    "print(test_result)"
   ]
  },
  {
   "cell_type": "code",
   "execution_count": 132,
   "metadata": {},
   "outputs": [],
   "source": [
    "output_test = net_three(X_test.view(-1, 1, 64, 64))"
   ]
  },
  {
   "cell_type": "code",
   "execution_count": 140,
   "metadata": {},
   "outputs": [
    {
     "data": {
      "text/plain": [
       "Parameter containing:\n",
       "tensor([[[[-0.0941,  0.2357,  0.1852],\n",
       "          [-0.2312,  0.1925,  0.1058],\n",
       "          [-0.1028,  0.0574, -0.2448]]]], device='cuda:0', requires_grad=True)"
      ]
     },
     "execution_count": 140,
     "metadata": {},
     "output_type": "execute_result"
    }
   ],
   "source": [
    "net_three.conv1.weight"
   ]
  },
  {
   "cell_type": "code",
   "execution_count": 16,
   "metadata": {},
   "outputs": [],
   "source": [
    "class NetFour(nn.Module):\n",
    "    \n",
    "    def __init__(self):\n",
    "        super().__init__()\n",
    "        \n",
    "        self.conv1 = nn.Conv2d(1, 1, kernel_size=3, stride=1, padding=1)\n",
    "        self.max_pool1 = nn.MaxPool2d(2, stride=2)\n",
    "        self.conv2 = nn.Conv2d(1, 1, kernel_size=3, stride=1, padding=1)\n",
    "        self.max_pool2 = nn.MaxPool2d(2, stride=2)\n",
    "        self.conv3 = nn.Conv2d(1, 1, kernel_size=3, stride=1, padding=1)\n",
    "        self.max_pool3 = nn.MaxPool2d(2, stride=2)\n",
    "        self.dense = nn.Linear(8*8, 128)\n",
    "        self.dense_output = nn.Linear(128, 10)\n",
    "    \n",
    "    def forward(self, x):\n",
    "        x = F.relu(self.conv1(x))\n",
    "        x = self.max_pool1(x)\n",
    "        x = F.relu(self.conv2(x))\n",
    "        x = self.max_pool2(x)\n",
    "        x = F.relu(self.conv3(x))\n",
    "        x = self.max_pool3(x)\n",
    "        x = x.view(-1, 1*8*8)\n",
    "        x = F.relu(self.dense(x))\n",
    "        x = self.dense_output(x)\n",
    "        \n",
    "        return F.softmax(x, dim=1)"
   ]
  },
  {
   "cell_type": "code",
   "execution_count": 17,
   "metadata": {},
   "outputs": [],
   "source": [
    "net_four = NetFour().cuda()"
   ]
  },
  {
   "cell_type": "code",
   "execution_count": 18,
   "metadata": {},
   "outputs": [
    {
     "data": {
      "text/plain": [
       "tensor([[0.1034, 0.1021, 0.0976, 0.0988, 0.0890, 0.0995, 0.1071, 0.0967, 0.1054,\n",
       "         0.1003]], device='cuda:0', grad_fn=<SoftmaxBackward>)"
      ]
     },
     "execution_count": 18,
     "metadata": {},
     "output_type": "execute_result"
    }
   ],
   "source": [
    "output_four = net_four(X_train[0].view(1, 1, 64, 64))\n",
    "output_four"
   ]
  },
  {
   "cell_type": "code",
   "execution_count": 19,
   "metadata": {},
   "outputs": [],
   "source": [
    "optimizer = optim.Adam(net_four.parameters(), lr=0.001)\n",
    "net_four, train_accuracy, test_accuracy = train_model(net_four, optimizer, train_indices, test_indices, X_train, Y_train, X_test, Y_test, epochs=3000)"
   ]
  },
  {
   "cell_type": "code",
   "execution_count": 20,
   "metadata": {},
   "outputs": [
    {
     "data": {
      "image/png": "[encoded data removed]",
      "text/plain": [
       "<Figure size 432x288 with 1 Axes>"
      ]
     },
     "metadata": {
      "needs_background": "light"
     },
     "output_type": "display_data"
    }
   ],
   "source": [
    "fig, ax = plt.subplots()\n",
    "ax.plot(train_accuracy, \"b-\", label=\"Train Accuracy\")\n",
    "ax.plot(test_accuracy, \"r-\", label=\"Test Accuracy\")\n",
    "leg = ax.legend()"
   ]
  },
  {
   "cell_type": "code",
   "execution_count": 21,
   "metadata": {},
   "outputs": [
    {
     "name": "stdout",
     "output_type": "stream",
     "text": [
      "0.10047846889952153\n"
     ]
    }
   ],
   "source": [
    "test_result = test_model(net_four, test_indices, X_test, Y_test)\n",
    "print(test_result)"
   ]
  },
  {
   "cell_type": "code",
   "execution_count": 38,
   "metadata": {},
   "outputs": [],
   "source": [
    "class NetFive(nn.Module):\n",
    "    \n",
    "    def __init__(self):\n",
    "        super().__init__()\n",
    "        \n",
    "        self.conv1 = nn.Conv2d(1, 1, kernel_size=3, stride=1, padding=1)\n",
    "        self.max_pool1 = nn.MaxPool2d(2, stride=2)\n",
    "        self.dropout1 = nn.Dropout2d(p=0.25)\n",
    "        self.conv2 = nn.Conv2d(1, 1, kernel_size=3, stride=1, padding=1)\n",
    "        self.max_pool2 = nn.MaxPool2d(2, stride=2)\n",
    "        self.dropout2 = nn.Dropout2d(p=0.25)\n",
    "        self.conv3 = nn.Conv2d(1, 1, kernel_size=3, stride=1, padding=1)\n",
    "        self.max_pool3 = nn.MaxPool2d(2, stride=2)\n",
    "        self.dropout3 = nn.Dropout2d(p=0.25)\n",
    "        self.dense = nn.Linear(8*8, 128)\n",
    "        self.dense_output = nn.Linear(128, 10)\n",
    "    \n",
    "    def forward(self, x):\n",
    "        x = F.relu(self.conv1(x))\n",
    "        x = self.max_pool1(x)\n",
    "        x = self.dropout1(x)\n",
    "        x = F.relu(self.conv2(x))\n",
    "        x = self.max_pool2(x)\n",
    "        # x = self.dropout2(x)\n",
    "        x = F.relu(self.conv3(x))\n",
    "        x = self.max_pool3(x)\n",
    "        # x = self.dropout3(x)\n",
    "        x = x.view(-1, 1*8*8)\n",
    "        x = F.relu(self.dense(x))\n",
    "        x = self.dense_output(x)\n",
    "        \n",
    "        return F.softmax(x, dim=1)"
   ]
  },
  {
   "cell_type": "code",
   "execution_count": 39,
   "metadata": {},
   "outputs": [],
   "source": [
    "net_five = NetFive().cuda()"
   ]
  },
  {
   "cell_type": "code",
   "execution_count": 40,
   "metadata": {},
   "outputs": [
    {
     "data": {
      "text/plain": [
       "tensor([[0.0955, 0.0891, 0.0995, 0.1102, 0.1055, 0.1018, 0.0919, 0.1063, 0.1001,\n",
       "         0.1002]], device='cuda:0', grad_fn=<SoftmaxBackward>)"
      ]
     },
     "execution_count": 40,
     "metadata": {},
     "output_type": "execute_result"
    }
   ],
   "source": [
    "output_five = net_five(X_train[0].view(1, 1, 64, 64))\n",
    "output_five"
   ]
  },
  {
   "cell_type": "code",
   "execution_count": 41,
   "metadata": {},
   "outputs": [],
   "source": [
    "optimizer = optim.RMSprop(net_five.parameters(), lr=0.001)\n",
    "net_five, train_accuracy, test_accuracy = train_model(net_five, optimizer, train_indices, test_indices, X_train, Y_train, X_test, Y_test, epochs=1000)"
   ]
  },
  {
   "cell_type": "code",
   "execution_count": 42,
   "metadata": {},
   "outputs": [
    {
     "data": {
      "image/png": "[encoded data removed]",
      "text/plain": [
       "<Figure size 432x288 with 1 Axes>"
      ]
     },
     "metadata": {
      "needs_background": "light"
     },
     "output_type": "display_data"
    }
   ],
   "source": [
    "fig, ax = plt.subplots()\n",
    "ax.plot(train_accuracy, \"b-\", label=\"Train Accuracy\")\n",
    "ax.plot(test_accuracy, \"r-\", label=\"Test Accuracy\")\n",
    "leg = ax.legend()"
   ]
  },
  {
   "cell_type": "code",
   "execution_count": 43,
   "metadata": {},
   "outputs": [
    {
     "name": "stdout",
     "output_type": "stream",
     "text": [
      "0.6244019138755981\n"
     ]
    }
   ],
   "source": [
    "test_result = test_model(net_five, test_indices, X_test, Y_test)\n",
    "print(test_result)"
   ]
  },
  {
   "cell_type": "code",
   "execution_count": 10,
   "metadata": {},
   "outputs": [],
   "source": [
    "class NetSix(nn.Module):\n",
    "    \n",
    "    def __init__(self):\n",
    "        super().__init__()\n",
    "        \n",
    "        self.conv1 = nn.Conv2d(1, 6, kernel_size=3, stride=1, padding=1)\n",
    "        self.max_pool1 = nn.MaxPool2d(2, stride=2)\n",
    "        self.conv2 = nn.Conv2d(6, 12, kernel_size=3, stride=1, padding=1)\n",
    "        self.max_pool2 = nn.MaxPool2d(2, stride=2)\n",
    "        self.conv3 = nn.Conv2d(12, 24, kernel_size=3, stride=1, padding=1)\n",
    "        self.max_pool3 = nn.MaxPool2d(2, stride=2)\n",
    "        self.dense = nn.Linear(24*8*8, 4096)\n",
    "        self.dense_output = nn.Linear(4096, 10)\n",
    "    \n",
    "    def forward(self, x):\n",
    "        x = F.relu(self.conv1(x))\n",
    "        x = self.max_pool1(x)\n",
    "        x = F.relu(self.conv2(x))\n",
    "        x = self.max_pool2(x)\n",
    "        x = F.relu(self.conv3(x))\n",
    "        x = self.max_pool3(x)\n",
    "        x = x.view(-1, 24*8*8)\n",
    "        x = F.relu(self.dense(x))\n",
    "        x = self.dense_output(x)\n",
    "        \n",
    "        return F.softmax(x, dim=1)"
   ]
  },
  {
   "cell_type": "code",
   "execution_count": 11,
   "metadata": {},
   "outputs": [],
   "source": [
    "net_six = NetSix().cuda()"
   ]
  },
  {
   "cell_type": "code",
   "execution_count": 12,
   "metadata": {},
   "outputs": [
    {
     "data": {
      "text/plain": [
       "tensor([[0.1021, 0.0987, 0.1000, 0.0992, 0.1005, 0.0986, 0.0994, 0.1011, 0.1010,\n",
       "         0.0993]], device='cuda:0', grad_fn=<SoftmaxBackward>)"
      ]
     },
     "execution_count": 12,
     "metadata": {},
     "output_type": "execute_result"
    }
   ],
   "source": [
    "output = net_six(X_train[0].view(1, 1, 64, 64))\n",
    "output"
   ]
  },
  {
   "cell_type": "code",
   "execution_count": 13,
   "metadata": {},
   "outputs": [],
   "source": [
    "optimizer = optim.Adam(net_six.parameters(), lr=0.001)\n",
    "net_six, train_accuracy, test_accuracy = train_model(net_six, optimizer, train_indices, test_indices, X_train, Y_train, X_test, Y_test, epochs=2000)"
   ]
  },
  {
   "cell_type": "code",
   "execution_count": 14,
   "metadata": {},
   "outputs": [
    {
     "data": {
      "image/png": "[encoded data removed]",
      "text/plain": [
       "<Figure size 432x288 with 1 Axes>"
      ]
     },
     "metadata": {
      "needs_background": "light"
     },
     "output_type": "display_data"
    }
   ],
   "source": [
    "fig, ax = plt.subplots()\n",
    "ax.plot(train_accuracy, \"b-\", label=\"Train Accuracy\")\n",
    "ax.plot(test_accuracy, \"r-\", label=\"Test Accuracy\")\n",
    "leg = ax.legend()"
   ]
  },
  {
   "cell_type": "code",
   "execution_count": 18,
   "metadata": {},
   "outputs": [
    {
     "name": "stdout",
     "output_type": "stream",
     "text": [
      "0.9234449760765551\n"
     ]
    }
   ],
   "source": [
    "test_result = test_model(net_six, test_indices, X_test, Y_test)\n",
    "print(test_result)"
   ]
  },
  {
   "cell_type": "code",
   "execution_count": 19,
   "metadata": {},
   "outputs": [],
   "source": [
    "class NetSeven(nn.Module):\n",
    "    \n",
    "    def __init__(self):\n",
    "        super().__init__()\n",
    "        \n",
    "        self.conv1 = nn.Conv2d(1, 6, kernel_size=3, stride=1, padding=1)\n",
    "        self.max_pool1 = nn.MaxPool2d(2, stride=2)\n",
    "        self.dropout1 = nn.Dropout2d(p=0.25)\n",
    "        self.conv2 = nn.Conv2d(6, 12, kernel_size=3, stride=1, padding=1)\n",
    "        self.max_pool2 = nn.MaxPool2d(2, stride=2)\n",
    "        self.dropout2 = nn.Dropout2d(p=0.10)\n",
    "        self.conv3 = nn.Conv2d(12, 24, kernel_size=3, stride=1, padding=1)\n",
    "        self.max_pool3 = nn.MaxPool2d(2, stride=2)\n",
    "        self.dropout3 = nn.Dropout2d(p=0.05)\n",
    "        self.dense = nn.Linear(24*8*8, 4096)\n",
    "        self.dense_output = nn.Linear(4096, 10)\n",
    "    \n",
    "    def forward(self, x):\n",
    "        x = F.relu(self.conv1(x))\n",
    "        x = self.max_pool1(x)\n",
    "        x = self.dropout1(x)\n",
    "        x = F.relu(self.conv2(x))\n",
    "        x = self.max_pool2(x)\n",
    "        x = self.dropout2(x)\n",
    "        x = F.relu(self.conv3(x))\n",
    "        x = self.max_pool3(x)\n",
    "        x = self.dropout3(x)\n",
    "        x = x.view(-1, 24*8*8)\n",
    "        x = F.relu(self.dense(x))\n",
    "        x = self.dense_output(x)\n",
    "        \n",
    "        return F.softmax(x, dim=1)"
   ]
  },
  {
   "cell_type": "code",
   "execution_count": 20,
   "metadata": {},
   "outputs": [],
   "source": [
    "net_seven = NetSeven().cuda()"
   ]
  },
  {
   "cell_type": "code",
   "execution_count": 21,
   "metadata": {},
   "outputs": [
    {
     "data": {
      "text/plain": [
       "tensor([[0.0995, 0.1006, 0.1020, 0.1004, 0.1017, 0.0955, 0.1004, 0.1013, 0.0996,\n",
       "         0.0989]], device='cuda:0', grad_fn=<SoftmaxBackward>)"
      ]
     },
     "execution_count": 21,
     "metadata": {},
     "output_type": "execute_result"
    }
   ],
   "source": [
    "output = net_seven(X_train[0].view(1, 1, 64, 64))\n",
    "output"
   ]
  },
  {
   "cell_type": "code",
   "execution_count": 22,
   "metadata": {},
   "outputs": [],
   "source": [
    "optimizer = optim.Adam(net_seven.parameters(), lr=0.001)\n",
    "net_seven, train_accuracy, test_accuracy = train_model(net_seven, optimizer, train_indices, test_indices, X_train, Y_train, X_test, Y_test, epochs=2000)"
   ]
  },
  {
   "cell_type": "code",
   "execution_count": 23,
   "metadata": {},
   "outputs": [
    {
     "data": {
      "image/png": "[encoded data removed]",
      "text/plain": [
       "<Figure size 432x288 with 1 Axes>"
      ]
     },
     "metadata": {
      "needs_background": "light"
     },
     "output_type": "display_data"
    }
   ],
   "source": [
    "fig, ax = plt.subplots()\n",
    "ax.plot(train_accuracy, \"b-\", label=\"Train Accuracy\")\n",
    "ax.plot(test_accuracy, \"r-\", label=\"Test Accuracy\")\n",
    "leg = ax.legend()"
   ]
  },
  {
   "cell_type": "code",
   "execution_count": 24,
   "metadata": {},
   "outputs": [
    {
     "name": "stdout",
     "output_type": "stream",
     "text": [
      "0.9210526315789473\n"
     ]
    }
   ],
   "source": [
    "test_result = test_model(net_seven, test_indices, X_test, Y_test)\n",
    "print(test_result)"
   ]
  },
  {
   "cell_type": "code",
   "execution_count": 31,
   "metadata": {},
   "outputs": [],
   "source": [
    "class NetEight(nn.Module):\n",
    "    \n",
    "    def __init__(self):\n",
    "        super().__init__()\n",
    "        \n",
    "        self.conv1 = nn.Conv2d(1, 6, kernel_size=3, stride=1, padding=1)\n",
    "        self.batch_norm1 = nn.BatchNorm2d(6)\n",
    "        self.max_pool1 = nn.MaxPool2d(2, stride=2)\n",
    "        # self.dropout1 = nn.Dropout2d(p=0.25)\n",
    "        self.conv2 = nn.Conv2d(6, 12, kernel_size=3, stride=1, padding=1)\n",
    "        self.batch_norm2 = nn.BatchNorm2d(12)\n",
    "        self.max_pool2 = nn.MaxPool2d(2, stride=2)\n",
    "        # self.dropout2 = nn.Dropout2d(p=0.10)\n",
    "        self.conv3 = nn.Conv2d(12, 24, kernel_size=3, stride=1, padding=1)\n",
    "        self.batch_norm3 = nn.BatchNorm2d(24)\n",
    "        self.max_pool3 = nn.MaxPool2d(2, stride=2)\n",
    "        # self.dropout3 = nn.Dropout2d(p=0.05)\n",
    "        self.dense = nn.Linear(24*8*8, 4096)\n",
    "        self.dense_output = nn.Linear(4096, 10)\n",
    "    \n",
    "    def forward(self, x):\n",
    "        x = F.relu(self.batch_norm1(self.conv1(x)))\n",
    "        x = self.max_pool1(x)\n",
    "        x = F.relu(self.batch_norm2(self.conv2(x)))\n",
    "        x = self.max_pool2(x)\n",
    "        x = F.relu(self.batch_norm3(self.conv3(x)))\n",
    "        x = self.max_pool3(x)\n",
    "        x = x.view(-1, 24*8*8)\n",
    "        x = F.relu(self.dense(x))\n",
    "        x = self.dense_output(x)\n",
    "        \n",
    "        return F.softmax(x, dim=1)"
   ]
  },
  {
   "cell_type": "code",
   "execution_count": 32,
   "metadata": {},
   "outputs": [],
   "source": [
    "net_eight = NetEight().cuda()"
   ]
  },
  {
   "cell_type": "code",
   "execution_count": 33,
   "metadata": {},
   "outputs": [
    {
     "data": {
      "text/plain": [
       "tensor([[0.0796, 0.0892, 0.0813, 0.1056, 0.1092, 0.0782, 0.1723, 0.0769, 0.0900,\n",
       "         0.1177]], device='cuda:0', grad_fn=<SoftmaxBackward>)"
      ]
     },
     "execution_count": 33,
     "metadata": {},
     "output_type": "execute_result"
    }
   ],
   "source": [
    "output = net_eight(X_train[0].view(1, 1, 64, 64))\n",
    "output"
   ]
  },
  {
   "cell_type": "code",
   "execution_count": 34,
   "metadata": {},
   "outputs": [],
   "source": [
    "optimizer = optim.Adam(net_eight.parameters(), lr=0.001)\n",
    "net_eight, train_accuracy, test_accuracy = train_model(net_eight, optimizer, train_indices, test_indices, X_train, Y_train, X_test, Y_test, epochs=2000)"
   ]
  },
  {
   "cell_type": "code",
   "execution_count": 35,
   "metadata": {},
   "outputs": [
    {
     "data": {
      "image/png": "[encoded data removed]",
      "text/plain": [
       "<Figure size 432x288 with 1 Axes>"
      ]
     },
     "metadata": {
      "needs_background": "light"
     },
     "output_type": "display_data"
    }
   ],
   "source": [
    "fig, ax = plt.subplots()\n",
    "ax.plot(train_accuracy, \"b-\", label=\"Train Accuracy\")\n",
    "ax.plot(test_accuracy, \"r-\", label=\"Test Accuracy\")\n",
    "leg = ax.legend()"
   ]
  },
  {
   "cell_type": "code",
   "execution_count": 37,
   "metadata": {},
   "outputs": [
    {
     "name": "stdout",
     "output_type": "stream",
     "text": [
      "0.9354066985645934\n"
     ]
    }
   ],
   "source": [
    "test_result = test_model(net_eight, test_indices, X_test, Y_test)\n",
    "print(test_result)"
   ]
  },
  {
   "cell_type": "code",
   "execution_count": 60,
   "metadata": {},
   "outputs": [],
   "source": [
    "class NetNine(nn.Module):\n",
    "    \n",
    "    def __init__(self):\n",
    "        super().__init__()\n",
    "\n",
    "        self.conv1 = nn.Conv2d(1, 18, kernel_size=3, stride=1, padding=1)\n",
    "        self.batch_norm1 = nn.BatchNorm2d(18)\n",
    "        self.fc2 = nn.Linear(18*64*64, 192)\n",
    "        self.batch_norm2 = nn.BatchNorm1d(192)\n",
    "        self.fc3 = nn.Linear(192, 192)\n",
    "        self.batch_norm3 = nn.BatchNorm1d(192)\n",
    "        self.fc4 = nn.Linear(192, 192)\n",
    "        self.batch_norm4 = nn.BatchNorm1d(192)\n",
    "        self.fc5 = nn.Linear(192, 192)\n",
    "        self.batch_norm5 = nn.BatchNorm1d(192)\n",
    "        self.fc6 = nn.Linear(192, 10)\n",
    "    \n",
    "    def forward(self, x):\n",
    "        x = F.relu(self.batch_norm1(self.conv1(x)))\n",
    "        x = x.view(-1, 18*64*64)\n",
    "        x = self.fc2(x)\n",
    "        x = F.relu(self.batch_norm2(x))\n",
    "        x = F.relu(self.batch_norm3(self.fc3(x)))\n",
    "        x = F.relu(self.batch_norm4(self.fc4(x)))\n",
    "        x = F.relu(self.batch_norm5(self.fc5(x)))\n",
    "        x = self.fc6(x)\n",
    "        \n",
    "        return F.softmax(x, dim=1)"
   ]
  },
  {
   "cell_type": "code",
   "execution_count": 61,
   "metadata": {},
   "outputs": [],
   "source": [
    "net_nine = NetNine()"
   ]
  },
  {
   "cell_type": "code",
   "execution_count": 62,
   "metadata": {},
   "outputs": [],
   "source": [
    "optimizer = optim.Adam(net_nine.parameters(), lr=0.001)\n",
    "net_nine, train_accuracy, test_accuracy = train_model(net_nine, optimizer, train_indices, test_indices, X_train, Y_train, X_test, Y_test, epochs=50)"
   ]
  },
  {
   "cell_type": "code",
   "execution_count": 63,
   "metadata": {},
   "outputs": [
    {
     "data": {
      "image/png": "[encoded data removed]",
      "text/plain": [
       "<Figure size 432x288 with 1 Axes>"
      ]
     },
     "metadata": {
      "needs_background": "light"
     },
     "output_type": "display_data"
    }
   ],
   "source": [
    "fig, ax = plt.subplots()\n",
    "ax.plot(train_accuracy, \"b-\", label=\"Train Accuracy\")\n",
    "ax.plot(test_accuracy, \"r-\", label=\"Test Accuracy\")\n",
    "leg = ax.legend()"
   ]
  },
  {
   "cell_type": "code",
   "execution_count": 64,
   "metadata": {},
   "outputs": [
    {
     "name": "stdout",
     "output_type": "stream",
     "text": [
      "0.8349282296650717\n"
     ]
    }
   ],
   "source": [
    "test_result = test_model(net_nine, test_indices, X_test, Y_test)\n",
    "print(test_result)"
   ]
  },
  {
   "cell_type": "code",
   "execution_count": 4,
   "metadata": {},
   "outputs": [],
   "source": [
    "class NetTen(nn.Module):\n",
    "    \n",
    "    def __init__(self):\n",
    "        super().__init__()\n",
    "        \n",
    "        self.conv1 = nn.Conv2d(1, 6, kernel_size=3, stride=1, padding=1)\n",
    "        self.batch_norm1 = nn.BatchNorm2d(6)\n",
    "        self.max_pool1 = nn.MaxPool2d(2, stride=2)\n",
    "        self.dropout1 = nn.Dropout2d(p=0.25)\n",
    "        self.conv2 = nn.Conv2d(6, 12, kernel_size=3, stride=1, padding=1)\n",
    "        self.batch_norm2 = nn.BatchNorm2d(12)\n",
    "        self.max_pool2 = nn.MaxPool2d(2, stride=2)\n",
    "        self.dropout2 = nn.Dropout2d(p=0.10)\n",
    "        self.conv3 = nn.Conv2d(12, 24, kernel_size=3, stride=1, padding=1)\n",
    "        self.batch_norm3 = nn.BatchNorm2d(24)\n",
    "        self.max_pool3 = nn.MaxPool2d(2, stride=2)\n",
    "        self.dropout3 = nn.Dropout2d(p=0.05)\n",
    "        self.dense = nn.Linear(24*8*8, 4096)\n",
    "        self.batch_norm4 = nn.BatchNorm1d(4096)\n",
    "        self.dense_output = nn.Linear(4096, 10)\n",
    "    \n",
    "    def forward(self, x):\n",
    "        x = F.relu(self.batch_norm1(self.conv1(x)))\n",
    "        x = self.dropout1(self.max_pool1(x))\n",
    "        x = F.relu(self.batch_norm2(self.conv2(x)))\n",
    "        x = self.dropout2(self.max_pool2(x))\n",
    "        x = F.relu(self.batch_norm3(self.conv3(x)))\n",
    "        x = self.dropout3(self.max_pool3(x))\n",
    "        x = x.view(-1, 24*8*8)\n",
    "        x = F.relu(self.batch_norm4(self.dense(x)))\n",
    "        x = self.dense_output(x)\n",
    "        \n",
    "        return F.softmax(x, dim=1)"
   ]
  },
  {
   "cell_type": "code",
   "execution_count": null,
   "metadata": {},
   "outputs": [],
   "source": [
    "net_ten = NetTen().cuda()"
   ]
  },
  {
   "cell_type": "code",
   "execution_count": null,
   "metadata": {},
   "outputs": [],
   "source": [
    "optimizer = optim.Adam(net_ten.parameters(), lr=0.001)\n",
    "net_ten, train_accuracy, test_accuracy = train_model(net_ten, optimizer, train_indices, test_indices, X_train, Y_train, X_test, Y_test, epochs=2000)"
   ]
  },
  {
   "cell_type": "code",
   "execution_count": null,
   "metadata": {},
   "outputs": [],
   "source": [
    "fig, ax = plt.subplots()\n",
    "ax.plot(train_accuracy, \"b-\", label=\"Train Accuracy\")\n",
    "ax.plot(test_accuracy, \"r-\", label=\"Test Accuracy\")\n",
    "leg = ax.legend()"
   ]
  },
  {
   "cell_type": "code",
   "execution_count": null,
   "metadata": {},
   "outputs": [],
   "source": [
    "test_result = test_model(net_ten, test_indices, X_test, Y_test)\n",
    "print(test_result)"
   ]
  },
  {
   "cell_type": "code",
   "execution_count": null,
   "metadata": {},
   "outputs": [],
   "source": []
  }
 ],
 "metadata": {
  "kernelspec": {
   "display_name": "Python 3",
   "language": "python",
   "name": "python3"
  },
  "language_info": {
   "codemirror_mode": {
    "name": "ipython",
    "version": 3
   },
   "file_extension": ".py",
   "mimetype": "text/x-python",
   "name": "python",
   "nbconvert_exporter": "python",
   "pygments_lexer": "ipython3",
   "version": "3.7.3"
  }
 },
 "nbformat": 4,
 "nbformat_minor": 2
}
