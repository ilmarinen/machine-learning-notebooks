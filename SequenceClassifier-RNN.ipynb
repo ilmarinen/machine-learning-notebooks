{
 "cells": [
  {
   "cell_type": "code",
   "execution_count": 2,
   "metadata": {},
   "outputs": [
    {
     "name": "stdout",
     "output_type": "stream",
     "text": [
      "GPU not available, CPU used\n"
     ]
    }
   ],
   "source": [
    "import torch.nn as nn\n",
    "import torch.nn.functional as F\n",
    "import torch.optim as optim\n",
    "import numpy as np\n",
    "import random\n",
    "import torch\n",
    "import os\n",
    "import random\n",
    "\n",
    "%matplotlib inline\n",
    "from matplotlib import pyplot as plt\n",
    "\n",
    "is_cuda = torch.cuda.is_available()\n",
    "\n",
    "# If we have a GPU available, we'll set our device to GPU. We'll use this device variable later in our code.\n",
    "if is_cuda:\n",
    "    device = torch.device(\"cuda\")\n",
    "    print(\"GPU is available\")\n",
    "else:\n",
    "    device = torch.device(\"cpu\")\n",
    "    print(\"GPU not available, CPU used\")"
   ]
  },
  {
   "cell_type": "code",
   "execution_count": 121,
   "metadata": {},
   "outputs": [],
   "source": [
    "def train_model(model, optimizer, X_train, X_train_lengths, Y_train, X_test, X_test_lengths, Y_test, epochs=500):\n",
    "    X_train_padded = torch.nn.utils.rnn.pad_sequence(X_train, batch_first=True)\n",
    "    max_length_train = X_train_padded.size(1)\n",
    "    X_train_padded = X_train_padded.view(-1, max_length_train, 1)\n",
    "    X_test_padded = torch.nn.utils.rnn.pad_sequence(X_test, batch_first=True)\n",
    "    max_length_test = X_test_padded.size(1)\n",
    "    X_test_padded = X_test_padded.view(-1, max_length_test, 1)\n",
    "    train_accuracy = []\n",
    "    test_accuracy = []\n",
    "    train_batch_size = len(X_train_lengths)\n",
    "    for i in range(epochs):\n",
    "        params = list(model.named_parameters())\n",
    "        model.zero_grad()\n",
    "        hidden = model.init_hidden(train_batch_size).float()\n",
    "        output = model(X_train_padded, hidden, X_train_lengths)\n",
    "        print(output, Y_train)\n",
    "        loss = F.cross_entropy(output, Y_train)\n",
    "        loss.backward()\n",
    "        optimizer.step()\n",
    "        for param_name, param in params:\n",
    "            print(param_name, np.linalg.norm(param.grad.to(\"cpu\").numpy()))\n",
    "        optimizer.zero_grad()\n",
    "        tr_accuracy = test_model(model, X_train, X_train_lengths, Y_train)\n",
    "        train_accuracy.append(tr_accuracy)\n",
    "        tst_accuracy = test_model(model, X_test, X_test_lengths, Y_test)\n",
    "        test_accuracy.append(tst_accuracy)\n",
    "    \n",
    "    return model.eval(), train_accuracy, test_accuracy"
   ]
  },
  {
   "cell_type": "code",
   "execution_count": 140,
   "metadata": {},
   "outputs": [],
   "source": [
    "def test_model(model, X_samp, X_samp_lengths, Y_samp):\n",
    "    batch_size = len(X_samp_lengths)\n",
    "    hidden = model.init_hidden(batch_size).float()\n",
    "    X_samp_padded = torch.nn.utils.rnn.pad_sequence(X_samp, batch_first=True)\n",
    "    max_length_samp = X_samp_padded.size(1)\n",
    "    X_samp_padded = X_samp_padded.view(-1, max_length_samp, 1)\n",
    "    output_test = model(X_samp_padded, hidden, X_samp_lengths)\n",
    "    total = 0\n",
    "    correct = 0\n",
    "    for i, out_t in enumerate(output_test):\n",
    "        if int(torch.argmax(out_t)) - int(Y_samp[i]) == 0:\n",
    "            correct = correct + 1\n",
    "        total = total + 1\n",
    "\n",
    "    return (correct/total)"
   ]
  },
  {
   "cell_type": "code",
   "execution_count": 141,
   "metadata": {},
   "outputs": [],
   "source": [
    "class ModelOne(nn.Module):\n",
    "    \n",
    "    def __init__(self):\n",
    "        super(ModelOne, self).__init__()\n",
    "        self.rnn = nn.RNN(1, 128, 4, nonlinearity=\"relu\", dropout=0.25, batch_first=True)\n",
    "        self.dense = nn.Linear(128, 18)\n",
    "    \n",
    "    def init_hidden(self, batch_size):\n",
    "        hidden = torch.zeros(4, batch_size, 128).to(device)\n",
    "\n",
    "        return hidden\n",
    "    \n",
    "    def forward(self, x, hidden, x_lengths):\n",
    "        batch_size = x.size(0)\n",
    "        max_sequence_size = x.size(1)\n",
    "        # hidden = self.init_hidden(batch_size).float()\n",
    "        x = torch.nn.utils.rnn.pack_padded_sequence(x, x_lengths, batch_first=True)\n",
    "        out, hidden = self.rnn(x, hidden)\n",
    "        out, _ = torch.nn.utils.rnn.pad_packed_sequence(out, batch_first=True)\n",
    "        out = out.contiguous()\n",
    "        out = out.view(-1, 128)\n",
    "        out = self.dense(out)\n",
    "        out = out.view(batch_size, max_sequence_size, 18)\n",
    "        \n",
    "        indexes = torch.tensor(x_lengths) - 1\n",
    "        out = out[torch.arange(batch_size), indexes, :]\n",
    "        \n",
    "        return F.softmax(out, dim=1)"
   ]
  },
  {
   "cell_type": "code",
   "execution_count": 142,
   "metadata": {},
   "outputs": [],
   "source": [
    "model_one = ModelOne().to(device)"
   ]
  },
  {
   "cell_type": "code",
   "execution_count": 3,
   "metadata": {},
   "outputs": [],
   "source": [
    "t = np.arange(0, 10, 0.1)"
   ]
  },
  {
   "cell_type": "code",
   "execution_count": 5,
   "metadata": {},
   "outputs": [],
   "source": [
    "y = np.sin(t)"
   ]
  },
  {
   "cell_type": "code",
   "execution_count": 125,
   "metadata": {},
   "outputs": [],
   "source": [
    "X = []\n",
    "Y = []\n",
    "freq = list(range(1, 19))\n",
    "\n",
    "for i in freq:\n",
    "    for n in range(100):\n",
    "        limit = random.randint(10, 20)\n",
    "        t = np.arange(0, limit, 0.1)\n",
    "        x = np.sin(i * t)\n",
    "        X.append(x)\n",
    "        Y.append(i-1)"
   ]
  },
  {
   "cell_type": "code",
   "execution_count": 126,
   "metadata": {},
   "outputs": [],
   "source": [
    "data = {}\n",
    "for i in Y:\n",
    "    if i not in data:\n",
    "        data[i] = [X[i]]\n",
    "    else:\n",
    "        data[i].append(X[i])\n"
   ]
  },
  {
   "cell_type": "code",
   "execution_count": 127,
   "metadata": {},
   "outputs": [],
   "source": [
    "X_train = []\n",
    "Y_train = []\n",
    "X_test = []\n",
    "Y_test = []\n",
    "for i , sequences in data.items():\n",
    "    for training_seq in sequences[:int(0.8 * len(sequences))]:\n",
    "        X_train.append(training_seq)\n",
    "        Y_train.append(i)\n",
    "    for testing_seq in sequences[int(0.8 * len(sequences)):]:\n",
    "        X_test.append(testing_seq)\n",
    "        Y_test.append(i)\n",
    "\n",
    "train_set = list(zip(X_train, Y_train))\n",
    "train_set = sorted(train_set, key=lambda t: len(t[0]), reverse=True)\n",
    "test_set = list(zip(X_test, Y_test))\n",
    "test_set = sorted(test_set, key=lambda t: len(t[0]), reverse=True)"
   ]
  },
  {
   "cell_type": "code",
   "execution_count": 128,
   "metadata": {},
   "outputs": [],
   "source": [
    "X_train = []\n",
    "X_train_lengths = []\n",
    "Y_train = []\n",
    "X_test = []\n",
    "X_test_lengths = []\n",
    "Y_test = []\n",
    "for x, y in train_set:\n",
    "    X_train.append(torch.tensor(x).float().to(device))\n",
    "    X_train_lengths.append(len(x))\n",
    "    Y_train.append(torch.tensor(y))\n",
    "\n",
    "Y_train = torch.tensor(Y_train).to(device)\n",
    "\n",
    "for x, y in test_set:\n",
    "    X_test.append(torch.tensor(x).float().to(device))\n",
    "    X_test_lengths.append(len(x))\n",
    "    Y_test.append(torch.tensor(y))\n",
    "\n",
    "Y_test = torch.tensor(Y_test).to(device)"
   ]
  },
  {
   "cell_type": "code",
   "execution_count": 129,
   "metadata": {},
   "outputs": [],
   "source": [
    "X_train_padded = torch.nn.utils.rnn.pad_sequence(X_train, batch_first=True)"
   ]
  },
  {
   "cell_type": "code",
   "execution_count": 130,
   "metadata": {},
   "outputs": [
    {
     "data": {
      "text/plain": [
       "torch.Size([1440, 200])"
      ]
     },
     "execution_count": 130,
     "metadata": {},
     "output_type": "execute_result"
    }
   ],
   "source": [
    "X_train_padded.size()"
   ]
  },
  {
   "cell_type": "code",
   "execution_count": 131,
   "metadata": {},
   "outputs": [],
   "source": [
    "train_batch_size = X_train_padded.size(0)\n",
    "hidden = model_one.init_hidden(train_batch_size).float()"
   ]
  },
  {
   "cell_type": "code",
   "execution_count": 143,
   "metadata": {},
   "outputs": [
    {
     "name": "stdout",
     "output_type": "stream",
     "text": [
      "tensor([[0.0549, 0.0550, 0.0524,  ..., 0.0561, 0.0618, 0.0528],\n",
      "        [0.0540, 0.0559, 0.0514,  ..., 0.0560, 0.0614, 0.0534],\n",
      "        [0.0536, 0.0550, 0.0530,  ..., 0.0567, 0.0616, 0.0535],\n",
      "        ...,\n",
      "        [0.0555, 0.0542, 0.0519,  ..., 0.0567, 0.0616, 0.0525],\n",
      "        [0.0542, 0.0539, 0.0527,  ..., 0.0553, 0.0608, 0.0530],\n",
      "        [0.0536, 0.0538, 0.0532,  ..., 0.0553, 0.0618, 0.0523]],\n",
      "       grad_fn=<SoftmaxBackward>) tensor([5, 5, 5,  ..., 0, 0, 0])\n",
      "rnn.weight_ih_l0 0.00027008992\n",
      "rnn.weight_hh_l0 0.00018210741\n",
      "rnn.bias_ih_l0 0.00019500265\n",
      "rnn.bias_hh_l0 0.00019500282\n",
      "rnn.weight_ih_l1 0.0003402628\n",
      "rnn.weight_hh_l1 0.00024486208\n",
      "rnn.bias_ih_l1 0.00023516035\n",
      "rnn.bias_hh_l1 0.00023516073\n",
      "rnn.weight_ih_l2 0.000490607\n",
      "rnn.weight_hh_l2 0.00027784036\n",
      "rnn.bias_ih_l2 0.00031027116\n",
      "rnn.bias_hh_l2 0.0003102711\n",
      "rnn.weight_ih_l3 0.0005049053\n",
      "rnn.weight_hh_l3 0.00025868832\n",
      "rnn.bias_ih_l3 0.00029369406\n",
      "rnn.bias_hh_l3 0.00029369476\n",
      "dense.weight 0.00045852564\n",
      "dense.bias 6.585411e-05\n",
      "tensor([[0.0546, 0.0546, 0.0519,  ..., 0.0551, 0.0616, 0.0527],\n",
      "        [0.0551, 0.0556, 0.0522,  ..., 0.0568, 0.0617, 0.0524],\n",
      "        [0.0546, 0.0545, 0.0518,  ..., 0.0565, 0.0614, 0.0528],\n",
      "        ...,\n",
      "        [0.0546, 0.0546, 0.0531,  ..., 0.0561, 0.0622, 0.0522],\n",
      "        [0.0551, 0.0552, 0.0518,  ..., 0.0561, 0.0622, 0.0541],\n",
      "        [0.0541, 0.0539, 0.0528,  ..., 0.0564, 0.0619, 0.0534]],\n",
      "       grad_fn=<SoftmaxBackward>) tensor([5, 5, 5,  ..., 0, 0, 0])\n",
      "rnn.weight_ih_l0 0.00032797636\n",
      "rnn.weight_hh_l0 0.00023005596\n",
      "rnn.bias_ih_l0 0.00024993287\n",
      "rnn.bias_hh_l0 0.0002499329\n",
      "rnn.weight_ih_l1 0.00036556483\n",
      "rnn.weight_hh_l1 0.00025685734\n",
      "rnn.bias_ih_l1 0.0002569512\n",
      "rnn.bias_hh_l1 0.00025695132\n",
      "rnn.weight_ih_l2 0.0004920458\n",
      "rnn.weight_hh_l2 0.0002807667\n",
      "rnn.bias_ih_l2 0.0003519727\n",
      "rnn.bias_hh_l2 0.0003519727\n",
      "rnn.weight_ih_l3 0.0005308158\n",
      "rnn.weight_hh_l3 0.0002885682\n",
      "rnn.bias_ih_l3 0.00034178037\n",
      "rnn.bias_hh_l3 0.00034178098\n",
      "dense.weight 0.0005057805\n",
      "dense.bias 5.3021417e-05\n",
      "tensor([[0.0537, 0.0540, 0.0517,  ..., 0.0561, 0.0618, 0.0526],\n",
      "        [0.0547, 0.0547, 0.0520,  ..., 0.0564, 0.0623, 0.0530],\n",
      "        [0.0557, 0.0538, 0.0508,  ..., 0.0556, 0.0612, 0.0532],\n",
      "        ...,\n",
      "        [0.0536, 0.0553, 0.0526,  ..., 0.0548, 0.0623, 0.0539],\n",
      "        [0.0541, 0.0553, 0.0526,  ..., 0.0550, 0.0621, 0.0537],\n",
      "        [0.0549, 0.0544, 0.0519,  ..., 0.0558, 0.0611, 0.0542]],\n",
      "       grad_fn=<SoftmaxBackward>) tensor([5, 5, 5,  ..., 0, 0, 0])\n",
      "rnn.weight_ih_l0 0.0005338798\n",
      "rnn.weight_hh_l0 0.0003401162\n",
      "rnn.bias_ih_l0 0.0003420066\n",
      "rnn.bias_hh_l0 0.00034200647\n",
      "rnn.weight_ih_l1 0.0004925299\n",
      "rnn.weight_hh_l1 0.00035122116\n",
      "rnn.bias_ih_l1 0.00033680844\n",
      "rnn.bias_hh_l1 0.0003368083\n",
      "rnn.weight_ih_l2 0.0006370486\n",
      "rnn.weight_hh_l2 0.00042097922\n",
      "rnn.bias_ih_l2 0.00051144423\n",
      "rnn.bias_hh_l2 0.0005114443\n",
      "rnn.weight_ih_l3 0.0007246466\n",
      "rnn.weight_hh_l3 0.0004488402\n",
      "rnn.bias_ih_l3 0.00056704617\n",
      "rnn.bias_hh_l3 0.00056704495\n",
      "dense.weight 0.0007143747\n",
      "dense.bias 3.8626185e-05\n"
     ]
    }
   ],
   "source": [
    "optimizer = optim.Adam(model_one.parameters(), lr=0.001)\n",
    "model_one, train_accuracy, test_accuracy = train_model(model_one, optimizer, X_train, X_train_lengths, Y_train, X_test, X_test_lengths, Y_test, epochs=3)"
   ]
  },
  {
   "cell_type": "code",
   "execution_count": 144,
   "metadata": {},
   "outputs": [
    {
     "data": {
      "image/png": "[encoded data removed]",
      "text/plain": [
       "<Figure size 432x288 with 1 Axes>"
      ]
     },
     "metadata": {
      "needs_background": "light"
     },
     "output_type": "display_data"
    }
   ],
   "source": [
    "fig, ax = plt.subplots()\n",
    "ax.plot(train_accuracy, \"b-\", label=\"Train Accuracy\")\n",
    "ax.plot(test_accuracy, \"r-\", label=\"Test Accuracy\")\n",
    "leg = ax.legend()"
   ]
  },
  {
   "cell_type": "code",
   "execution_count": null,
   "metadata": {},
   "outputs": [],
   "source": []
  }
 ],
 "metadata": {
  "kernelspec": {
   "display_name": "Python 3",
   "language": "python",
   "name": "python3"
  },
  "language_info": {
   "codemirror_mode": {
    "name": "ipython",
    "version": 3
   },
   "file_extension": ".py",
   "mimetype": "text/x-python",
   "name": "python",
   "nbconvert_exporter": "python",
   "pygments_lexer": "ipython3",
   "version": "3.7.3"
  }
 },
 "nbformat": 4,
 "nbformat_minor": 4
}
